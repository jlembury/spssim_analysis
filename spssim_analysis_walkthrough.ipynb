{
 "cells": [
  {
   "cell_type": "markdown",
   "source": [
    "### Walk-through of the Distance-Based SpSSIM Analysis & Python Script\n",
    "**Jessica Embury, San Diego State University, Fall 2022**\n",
    "\n",
    "Reference Literature: *Jin, C., Nara, A., Yang, J.-A., Tsou, M.-H. (2020). Similarity measurement on human mobility data with spatially weighted structural similarity index (SpSSIM). Transactions in GIS, 24, 104-122. [https://doi.org/10.1111/tgis.12590](https://doi.org/10.1111/tgis.12590)*"
   ],
   "metadata": {
    "collapsed": false,
    "pycharm": {
     "name": "#%% md\n"
    }
   }
  },
  {
   "cell_type": "markdown",
   "source": [
    "#### NOTE: Use the \"sample_data\" folder to follow along with the walk-through."
   ],
   "metadata": {
    "collapsed": false,
    "pycharm": {
     "name": "#%% md\n"
    }
   }
  },
  {
   "cell_type": "markdown",
   "source": [
    "#### Explanation of Python files\n",
    "- *util.py*: general functions that support the analysis, but are not specific to it\n",
    "- *matrixes.py*: functions for the generation of analysis matrixes (flow probabilities, weights)\n",
    "- *spssim_distbased_analysis.py*: functions for calculation of SpSSIM values\n",
    "- *main.py*: file path variables and script to run the analysis"
   ],
   "metadata": {
    "collapsed": false,
    "pycharm": {
     "name": "#%% md\n"
    }
   }
  },
  {
   "cell_type": "markdown",
   "source": [
    "#### 1. Create a distance matrix with a row and column for every Census Block Group (CBG).\n",
    "Each value is the distance between the row CBG and the column CBG in kilometers (km).\n",
    "**Note:** This function uses a cross join and takes a long time to run!"
   ],
   "metadata": {
    "collapsed": false,
    "pycharm": {
     "name": "#%% md\n"
    }
   }
  },
  {
   "cell_type": "code",
   "execution_count": 14,
   "outputs": [
    {
     "data": {
      "text/plain": "      cbg_orig  60730001001  60730001002  60730002011  60730002021  \\\n0  60730001001          0.0          0.0          0.0          0.4   \n1  60730001002          0.0          0.0          0.3          0.3   \n2  60730002011          0.0          0.3          0.0          0.1   \n\n   60730002022  60730002023  60730003001  60730003002  60730003003  ...  \\\n0          0.0          0.5          0.9          1.4          1.7  ...   \n1          0.0          0.5          1.2          1.6          1.9  ...   \n2          0.0          0.0          0.1          0.5          0.8  ...   \n\n   60730216002  60730218001  60730218002  60730219001  60730219002  \\\n0          7.4          6.6          5.6          8.9          9.3   \n1          7.1          6.2          5.2          8.7          9.2   \n2          7.5          6.8          5.7          8.5          8.8   \n\n   60730220001  60730220002  60730221001  60730221002  60730221003  \n0         10.6         11.3         40.9         40.0         38.6  \n1         10.6         11.4         41.0         40.1         38.7  \n2          9.9         10.6         41.3         40.4         39.1  \n\n[3 rows x 1795 columns]",
      "text/html": "<div>\n<style scoped>\n    .dataframe tbody tr th:only-of-type {\n        vertical-align: middle;\n    }\n\n    .dataframe tbody tr th {\n        vertical-align: top;\n    }\n\n    .dataframe thead th {\n        text-align: right;\n    }\n</style>\n<table border=\"1\" class=\"dataframe\">\n  <thead>\n    <tr style=\"text-align: right;\">\n      <th></th>\n      <th>cbg_orig</th>\n      <th>60730001001</th>\n      <th>60730001002</th>\n      <th>60730002011</th>\n      <th>60730002021</th>\n      <th>60730002022</th>\n      <th>60730002023</th>\n      <th>60730003001</th>\n      <th>60730003002</th>\n      <th>60730003003</th>\n      <th>...</th>\n      <th>60730216002</th>\n      <th>60730218001</th>\n      <th>60730218002</th>\n      <th>60730219001</th>\n      <th>60730219002</th>\n      <th>60730220001</th>\n      <th>60730220002</th>\n      <th>60730221001</th>\n      <th>60730221002</th>\n      <th>60730221003</th>\n    </tr>\n  </thead>\n  <tbody>\n    <tr>\n      <th>0</th>\n      <td>60730001001</td>\n      <td>0.0</td>\n      <td>0.0</td>\n      <td>0.0</td>\n      <td>0.4</td>\n      <td>0.0</td>\n      <td>0.5</td>\n      <td>0.9</td>\n      <td>1.4</td>\n      <td>1.7</td>\n      <td>...</td>\n      <td>7.4</td>\n      <td>6.6</td>\n      <td>5.6</td>\n      <td>8.9</td>\n      <td>9.3</td>\n      <td>10.6</td>\n      <td>11.3</td>\n      <td>40.9</td>\n      <td>40.0</td>\n      <td>38.6</td>\n    </tr>\n    <tr>\n      <th>1</th>\n      <td>60730001002</td>\n      <td>0.0</td>\n      <td>0.0</td>\n      <td>0.3</td>\n      <td>0.3</td>\n      <td>0.0</td>\n      <td>0.5</td>\n      <td>1.2</td>\n      <td>1.6</td>\n      <td>1.9</td>\n      <td>...</td>\n      <td>7.1</td>\n      <td>6.2</td>\n      <td>5.2</td>\n      <td>8.7</td>\n      <td>9.2</td>\n      <td>10.6</td>\n      <td>11.4</td>\n      <td>41.0</td>\n      <td>40.1</td>\n      <td>38.7</td>\n    </tr>\n    <tr>\n      <th>2</th>\n      <td>60730002011</td>\n      <td>0.0</td>\n      <td>0.3</td>\n      <td>0.0</td>\n      <td>0.1</td>\n      <td>0.0</td>\n      <td>0.0</td>\n      <td>0.1</td>\n      <td>0.5</td>\n      <td>0.8</td>\n      <td>...</td>\n      <td>7.5</td>\n      <td>6.8</td>\n      <td>5.7</td>\n      <td>8.5</td>\n      <td>8.8</td>\n      <td>9.9</td>\n      <td>10.6</td>\n      <td>41.3</td>\n      <td>40.4</td>\n      <td>39.1</td>\n    </tr>\n  </tbody>\n</table>\n<p>3 rows × 1795 columns</p>\n</div>"
     },
     "execution_count": 14,
     "metadata": {},
     "output_type": "execute_result"
    }
   ],
   "source": [
    "import pandas as pd\n",
    "from matrixes import create_distance_matrix\n",
    "\n",
    "cbg_shapefile = './sample_data/source_data/CENSUS_BLOCKGROUPTIGER2010/CENSUS_BLOCKGROUPTIGER2010.shp'\n",
    "bg_csv = '/sample_data/source_data/cbgs_2019.csv'\n",
    "distance_matrix_csv = './sample_data/cbg_distance_matrix.csv'\n",
    "\n",
    "distance_matrix = create_distance_matrix(cbg_shapefile, bg_csv, distance_matrix_csv)\n",
    "distance_matrix.head(3)"
   ],
   "metadata": {
    "collapsed": false,
    "pycharm": {
     "name": "#%%\n"
    }
   }
  },
  {
   "cell_type": "markdown",
   "source": [
    "#### 2. Download Origin-Destination (O-D) data and save as .CSV files.\n",
    "These tables have a record for each origin, destination, and mobility value (e.g., job, device count). Below is a sample of the LODES 2019 O-D table."
   ],
   "metadata": {
    "collapsed": false,
    "pycharm": {
     "name": "#%% md\n"
    }
   }
  },
  {
   "cell_type": "code",
   "execution_count": 15,
   "outputs": [
    {
     "name": "stdout",
     "output_type": "stream",
     "text": [
      "The LODES 2019 O-D table has 428273 rows.\n"
     ]
    },
    {
     "data": {
      "text/plain": "      cbg_orig     cbg_dest  num_jobs\n0  60730001001  60730001001         3\n1  60730001001  60730001002        12\n2  60730001001  60730002011         2",
      "text/html": "<div>\n<style scoped>\n    .dataframe tbody tr th:only-of-type {\n        vertical-align: middle;\n    }\n\n    .dataframe tbody tr th {\n        vertical-align: top;\n    }\n\n    .dataframe thead th {\n        text-align: right;\n    }\n</style>\n<table border=\"1\" class=\"dataframe\">\n  <thead>\n    <tr style=\"text-align: right;\">\n      <th></th>\n      <th>cbg_orig</th>\n      <th>cbg_dest</th>\n      <th>num_jobs</th>\n    </tr>\n  </thead>\n  <tbody>\n    <tr>\n      <th>0</th>\n      <td>60730001001</td>\n      <td>60730001001</td>\n      <td>3</td>\n    </tr>\n    <tr>\n      <th>1</th>\n      <td>60730001001</td>\n      <td>60730001002</td>\n      <td>12</td>\n    </tr>\n    <tr>\n      <th>2</th>\n      <td>60730001001</td>\n      <td>60730002011</td>\n      <td>2</td>\n    </tr>\n  </tbody>\n</table>\n</div>"
     },
     "execution_count": 15,
     "metadata": {},
     "output_type": "execute_result"
    }
   ],
   "source": [
    "od2017_table_csv = './sample_data/source_data/lodes_od_2017.csv'\n",
    "od2017_df = pd.read_csv(od2017_table_csv)\n",
    "\n",
    "od2019_table_csv = './sample_data/source_data/lodes_od_2019.csv'\n",
    "od2019_df = pd.read_csv(od2019_table_csv)\n",
    "print('The LODES 2019 O-D table has {} rows.'.format(len(od2019_df)))\n",
    "od2019_df.head(3)"
   ],
   "metadata": {
    "collapsed": false,
    "pycharm": {
     "name": "#%%\n"
    }
   }
  },
  {
   "cell_type": "markdown",
   "source": [
    "#### 3. Convert the O-D table into an O-D matrix with one row for each origin CBG and one column for each destination CBG."
   ],
   "metadata": {
    "collapsed": false,
    "pycharm": {
     "name": "#%% md\n"
    }
   }
  },
  {
   "cell_type": "code",
   "execution_count": 16,
   "outputs": [
    {
     "name": "stdout",
     "output_type": "stream",
     "text": [
      "./sample_data/source_data/lodes_od_2017.csv\n",
      "O-D table has 422719 rows.\n",
      "Pivot table has 1794 rows and 1794 columns. 0 differences: []\n",
      "./sample_data/source_data/lodes_od_2019.csv\n",
      "O-D table has 428273 rows.\n",
      "Pivot table has 1794 rows and 1794 columns. 0 differences: []\n"
     ]
    },
    {
     "data": {
      "text/plain": "cbg_dest     60730001001  60730001002  60730002011  60730002021  60730002022  \\\ncbg_orig                                                                       \n60730001001          3.0         12.0          2.0          0.0          0.0   \n60730001002         14.0         18.0          6.0          3.0          0.0   \n60730002011          0.0          0.0         37.0          0.0          1.0   \n\ncbg_dest     60730002023  60730003001  60730003002  60730003003  60730003004  \\\ncbg_orig                                                                       \n60730001001          2.0          0.0          0.0          2.0          0.0   \n60730001002          1.0          0.0          0.0          6.0          0.0   \n60730002011          0.0          0.0          2.0          3.0          1.0   \n\ncbg_dest     ...  60730216002  60730218001  60730218002  60730219001  \\\ncbg_orig     ...                                                       \n60730001001  ...          1.0          0.0          0.0          0.0   \n60730001002  ...          2.0          0.0          0.0          1.0   \n60730002011  ...          0.0          2.0          0.0         14.0   \n\ncbg_dest     60730219002  60730220001  60730220002  60730221001  60730221002  \\\ncbg_orig                                                                       \n60730001001          0.0          0.0          0.0          4.0          2.0   \n60730001002          0.0          0.0          0.0          7.0          0.0   \n60730002011          1.0          0.0          0.0          2.0          0.0   \n\ncbg_dest     60730221003  \ncbg_orig                  \n60730001001          0.0  \n60730001002          0.0  \n60730002011          0.0  \n\n[3 rows x 1794 columns]",
      "text/html": "<div>\n<style scoped>\n    .dataframe tbody tr th:only-of-type {\n        vertical-align: middle;\n    }\n\n    .dataframe tbody tr th {\n        vertical-align: top;\n    }\n\n    .dataframe thead th {\n        text-align: right;\n    }\n</style>\n<table border=\"1\" class=\"dataframe\">\n  <thead>\n    <tr style=\"text-align: right;\">\n      <th>cbg_dest</th>\n      <th>60730001001</th>\n      <th>60730001002</th>\n      <th>60730002011</th>\n      <th>60730002021</th>\n      <th>60730002022</th>\n      <th>60730002023</th>\n      <th>60730003001</th>\n      <th>60730003002</th>\n      <th>60730003003</th>\n      <th>60730003004</th>\n      <th>...</th>\n      <th>60730216002</th>\n      <th>60730218001</th>\n      <th>60730218002</th>\n      <th>60730219001</th>\n      <th>60730219002</th>\n      <th>60730220001</th>\n      <th>60730220002</th>\n      <th>60730221001</th>\n      <th>60730221002</th>\n      <th>60730221003</th>\n    </tr>\n    <tr>\n      <th>cbg_orig</th>\n      <th></th>\n      <th></th>\n      <th></th>\n      <th></th>\n      <th></th>\n      <th></th>\n      <th></th>\n      <th></th>\n      <th></th>\n      <th></th>\n      <th></th>\n      <th></th>\n      <th></th>\n      <th></th>\n      <th></th>\n      <th></th>\n      <th></th>\n      <th></th>\n      <th></th>\n      <th></th>\n      <th></th>\n    </tr>\n  </thead>\n  <tbody>\n    <tr>\n      <th>60730001001</th>\n      <td>3.0</td>\n      <td>12.0</td>\n      <td>2.0</td>\n      <td>0.0</td>\n      <td>0.0</td>\n      <td>2.0</td>\n      <td>0.0</td>\n      <td>0.0</td>\n      <td>2.0</td>\n      <td>0.0</td>\n      <td>...</td>\n      <td>1.0</td>\n      <td>0.0</td>\n      <td>0.0</td>\n      <td>0.0</td>\n      <td>0.0</td>\n      <td>0.0</td>\n      <td>0.0</td>\n      <td>4.0</td>\n      <td>2.0</td>\n      <td>0.0</td>\n    </tr>\n    <tr>\n      <th>60730001002</th>\n      <td>14.0</td>\n      <td>18.0</td>\n      <td>6.0</td>\n      <td>3.0</td>\n      <td>0.0</td>\n      <td>1.0</td>\n      <td>0.0</td>\n      <td>0.0</td>\n      <td>6.0</td>\n      <td>0.0</td>\n      <td>...</td>\n      <td>2.0</td>\n      <td>0.0</td>\n      <td>0.0</td>\n      <td>1.0</td>\n      <td>0.0</td>\n      <td>0.0</td>\n      <td>0.0</td>\n      <td>7.0</td>\n      <td>0.0</td>\n      <td>0.0</td>\n    </tr>\n    <tr>\n      <th>60730002011</th>\n      <td>0.0</td>\n      <td>0.0</td>\n      <td>37.0</td>\n      <td>0.0</td>\n      <td>1.0</td>\n      <td>0.0</td>\n      <td>0.0</td>\n      <td>2.0</td>\n      <td>3.0</td>\n      <td>1.0</td>\n      <td>...</td>\n      <td>0.0</td>\n      <td>2.0</td>\n      <td>0.0</td>\n      <td>14.0</td>\n      <td>1.0</td>\n      <td>0.0</td>\n      <td>0.0</td>\n      <td>2.0</td>\n      <td>0.0</td>\n      <td>0.0</td>\n    </tr>\n  </tbody>\n</table>\n<p>3 rows × 1794 columns</p>\n</div>"
     },
     "execution_count": 16,
     "metadata": {},
     "output_type": "execute_result"
    }
   ],
   "source": [
    "from matrixes import odtable2matrix\n",
    "\n",
    "od2017_raw_matrix_csv = './sample_data/spssim_distance_based/sd_lodes_2017_raw_matrix.csv'\n",
    "od2017_matrix = odtable2matrix(od2017_table_csv, od2017_raw_matrix_csv, 'cbg_orig', 'cbg_dest', 'num_jobs')\n",
    "\n",
    "od2019_raw_matrix_csv = './sample_data/spssim_distance_based/sd_lodes_2019_raw_matrix.csv'\n",
    "od2019_matrix = odtable2matrix(od2019_table_csv, od2019_raw_matrix_csv, 'cbg_orig', 'cbg_dest', 'num_jobs')\n",
    "od2019_matrix.head(3)"
   ],
   "metadata": {
    "collapsed": false,
    "pycharm": {
     "name": "#%%\n"
    }
   }
  },
  {
   "cell_type": "markdown",
   "source": [
    "#### 4. Convert the O-D matrix into a flow probabilities matrix with one row for each origin CBG and one column for each destination CBG.\n",
    "The value is now the probability of the origin CBG row having flow into the destination CBG column. The sum of each row equals 1."
   ],
   "metadata": {
    "collapsed": false,
    "pycharm": {
     "name": "#%% md\n"
    }
   }
  },
  {
   "cell_type": "code",
   "execution_count": 17,
   "outputs": [
    {
     "name": "stdout",
     "output_type": "stream",
     "text": [
      "Raw matrix has 1794 rows. Probabilities matrix has 1794 rows.\n",
      "[1. 1. 1. 1. 1. 1. 1. 1. 1. 1. 1. 1. 1. 1. 1. 1. 1. 1. 1. 1. 1. 1. 1. 1.\n",
      " 1. 1. 1. 1. 1. 1. 1. 1. 1. 1. 1. 1. 1. 1. 1. 1. 1. 1. 1. 1. 1. 1. 1. 1.\n",
      " 1. 1. 1. 1. 1. 1. 1. 1. 1. 1. 1. 1. 1. 1. 1. 1. 1. 1. 1. 1. 1. 1. 1. 1.\n",
      " 1. 1. 1. 1. 1. 1. 1. 1. 1. 1. 1. 1. 1. 1. 1. 1. 1. 1. 1. 1. 1. 1. 1. 1.\n",
      " 1. 1.]\n",
      "Raw matrix has 1794 rows. Probabilities matrix has 1794 rows.\n",
      "[1. 1. 1. 1. 1. 1. 1. 1. 1. 1. 1. 1. 1. 1. 1. 1. 1. 1. 1. 1. 1. 1. 1. 1.\n",
      " 1. 1. 1. 1. 1. 1. 1. 1. 1. 1. 1. 1. 1. 1. 1. 1. 1. 1. 1. 1. 1. 1. 1. 1.\n",
      " 1. 1. 1. 1. 1. 1. 1. 1. 1. 1. 1. 1. 1. 1. 1. 1. 1. 1. 1. 1. 1. 1. 1. 1.\n",
      " 1. 1. 1. 1. 1. 1. 1. 1. 1. 1. 1. 1. 1. 1. 1. 1. 1. 1. 1. 1. 1. 1. 1. 1.\n",
      " 1. 1. 1. 1. 1. 1. 1. 1. 1.]\n"
     ]
    },
    {
     "data": {
      "text/plain": "             60730001001  60730001002  60730002011  60730002021  60730002022  \\\ncbg_orig                                                                       \n60730001001     0.000000     0.027523     0.004587     0.000000      0.00000   \n60730001002     0.025974     0.000000     0.011132     0.005566      0.00000   \n60730002011     0.000000     0.000000     0.000000     0.000000      0.00135   \n\n             60730002023  60730003001  60730003002  60730003003  60730003004  \\\ncbg_orig                                                                       \n60730001001     0.004587          0.0     0.000000     0.004587      0.00000   \n60730001002     0.001855          0.0     0.000000     0.011132      0.00000   \n60730002011     0.000000          0.0     0.002699     0.004049      0.00135   \n\n             ...  60730218001  60730218002  60730219001  60730219002  \\\ncbg_orig     ...                                                       \n60730001001  ...     0.000000          0.0     0.000000      0.00000   \n60730001002  ...     0.000000          0.0     0.001855      0.00000   \n60730002011  ...     0.002699          0.0     0.018893      0.00135   \n\n             60730220001  60730220002  60730221001  60730221002  60730221003  \\\ncbg_orig                                                                       \n60730001001          0.0          0.0     0.009174     0.004587          0.0   \n60730001002          0.0          0.0     0.012987     0.000000          0.0   \n60730002011          0.0          0.0     0.002699     0.000000          0.0   \n\n             row_total  \ncbg_orig                \n60730001001        1.0  \n60730001002        1.0  \n60730002011        1.0  \n\n[3 rows x 1795 columns]",
      "text/html": "<div>\n<style scoped>\n    .dataframe tbody tr th:only-of-type {\n        vertical-align: middle;\n    }\n\n    .dataframe tbody tr th {\n        vertical-align: top;\n    }\n\n    .dataframe thead th {\n        text-align: right;\n    }\n</style>\n<table border=\"1\" class=\"dataframe\">\n  <thead>\n    <tr style=\"text-align: right;\">\n      <th></th>\n      <th>60730001001</th>\n      <th>60730001002</th>\n      <th>60730002011</th>\n      <th>60730002021</th>\n      <th>60730002022</th>\n      <th>60730002023</th>\n      <th>60730003001</th>\n      <th>60730003002</th>\n      <th>60730003003</th>\n      <th>60730003004</th>\n      <th>...</th>\n      <th>60730218001</th>\n      <th>60730218002</th>\n      <th>60730219001</th>\n      <th>60730219002</th>\n      <th>60730220001</th>\n      <th>60730220002</th>\n      <th>60730221001</th>\n      <th>60730221002</th>\n      <th>60730221003</th>\n      <th>row_total</th>\n    </tr>\n    <tr>\n      <th>cbg_orig</th>\n      <th></th>\n      <th></th>\n      <th></th>\n      <th></th>\n      <th></th>\n      <th></th>\n      <th></th>\n      <th></th>\n      <th></th>\n      <th></th>\n      <th></th>\n      <th></th>\n      <th></th>\n      <th></th>\n      <th></th>\n      <th></th>\n      <th></th>\n      <th></th>\n      <th></th>\n      <th></th>\n      <th></th>\n    </tr>\n  </thead>\n  <tbody>\n    <tr>\n      <th>60730001001</th>\n      <td>0.000000</td>\n      <td>0.027523</td>\n      <td>0.004587</td>\n      <td>0.000000</td>\n      <td>0.00000</td>\n      <td>0.004587</td>\n      <td>0.0</td>\n      <td>0.000000</td>\n      <td>0.004587</td>\n      <td>0.00000</td>\n      <td>...</td>\n      <td>0.000000</td>\n      <td>0.0</td>\n      <td>0.000000</td>\n      <td>0.00000</td>\n      <td>0.0</td>\n      <td>0.0</td>\n      <td>0.009174</td>\n      <td>0.004587</td>\n      <td>0.0</td>\n      <td>1.0</td>\n    </tr>\n    <tr>\n      <th>60730001002</th>\n      <td>0.025974</td>\n      <td>0.000000</td>\n      <td>0.011132</td>\n      <td>0.005566</td>\n      <td>0.00000</td>\n      <td>0.001855</td>\n      <td>0.0</td>\n      <td>0.000000</td>\n      <td>0.011132</td>\n      <td>0.00000</td>\n      <td>...</td>\n      <td>0.000000</td>\n      <td>0.0</td>\n      <td>0.001855</td>\n      <td>0.00000</td>\n      <td>0.0</td>\n      <td>0.0</td>\n      <td>0.012987</td>\n      <td>0.000000</td>\n      <td>0.0</td>\n      <td>1.0</td>\n    </tr>\n    <tr>\n      <th>60730002011</th>\n      <td>0.000000</td>\n      <td>0.000000</td>\n      <td>0.000000</td>\n      <td>0.000000</td>\n      <td>0.00135</td>\n      <td>0.000000</td>\n      <td>0.0</td>\n      <td>0.002699</td>\n      <td>0.004049</td>\n      <td>0.00135</td>\n      <td>...</td>\n      <td>0.002699</td>\n      <td>0.0</td>\n      <td>0.018893</td>\n      <td>0.00135</td>\n      <td>0.0</td>\n      <td>0.0</td>\n      <td>0.002699</td>\n      <td>0.000000</td>\n      <td>0.0</td>\n      <td>1.0</td>\n    </tr>\n  </tbody>\n</table>\n<p>3 rows × 1795 columns</p>\n</div>"
     },
     "execution_count": 17,
     "metadata": {},
     "output_type": "execute_result"
    }
   ],
   "source": [
    "from matrixes import create_distbased_probability_matrix\n",
    "\n",
    "flow_probs2017_matrix_csv = './sample_data/spssim_distance_based/sd_lodes_2017_distbased_flow_probabilities_matrix.csv'\n",
    "flow_probs2017_matrix = create_distbased_probability_matrix(od2017_raw_matrix_csv, flow_probs2017_matrix_csv, 'cbg_orig')\n",
    "\n",
    "flow_probs2019_matrix_csv = './sample_data/spssim_distance_based/sd_lodes_2019_distbased_flow_probabilities_matrix.csv'\n",
    "flow_probs2019_matrix = create_distbased_probability_matrix(od2019_raw_matrix_csv, flow_probs2019_matrix_csv, 'cbg_orig')\n",
    "flow_probs2019_matrix.head(3)"
   ],
   "metadata": {
    "collapsed": false,
    "pycharm": {
     "name": "#%%\n"
    }
   }
  },
  {
   "cell_type": "markdown",
   "source": [
    "#### 5. Choose the distance bins.\n",
    "Distance-based SpSSIMs will be calculated for the CBGs inside each distance bin. Below are 10km distance bins.\n"
   ],
   "metadata": {
    "collapsed": false,
    "pycharm": {
     "name": "#%% md\n"
    }
   }
  },
  {
   "cell_type": "code",
   "execution_count": 27,
   "outputs": [],
   "source": [
    "distance_bins = [(0, 10), (10, 20), (20, 30), (30, 40), (40, 50), (50, 60), (60, 70), (70, 80), (80, 90), (90, 100), (100, 110), (110, 120)]"
   ],
   "metadata": {
    "collapsed": false,
    "pycharm": {
     "name": "#%%\n"
    }
   }
  },
  {
   "cell_type": "markdown",
   "source": [
    "#### 6. Create a weight matrix for each distance bin.\n",
    "Matrix cells equal 1 if the distance between the origin and destination CBGs is within the distance bin's range. Otherwise, the cell values equal 0.\n"
   ],
   "metadata": {
    "collapsed": false,
    "pycharm": {
     "name": "#%% md\n"
    }
   }
  },
  {
   "cell_type": "code",
   "execution_count": 28,
   "outputs": [
    {
     "data": {
      "text/plain": "             60730001001  60730001002  60730002011  60730002021  60730002022  \\\ncbg_orig                                                                       \n60730001001            0            0            0            0            0   \n60730001002            0            0            0            0            0   \n60730002011            0            0            0            0            0   \n\n             60730002023  60730003001  60730003002  60730003003  60730003004  \\\ncbg_orig                                                                       \n60730001001            0            0            0            0            0   \n60730001002            0            0            0            0            0   \n60730002011            0            0            0            0            0   \n\n             ...  60730216002  60730218001  60730218002  60730219001  \\\ncbg_orig     ...                                                       \n60730001001  ...            0            0            0            0   \n60730001002  ...            0            0            0            0   \n60730002011  ...            0            0            0            0   \n\n             60730219002  60730220001  60730220002  60730221001  60730221002  \\\ncbg_orig                                                                       \n60730001001            0            0            0            0            0   \n60730001002            0            0            0            0            0   \n60730002011            0            0            0            0            0   \n\n             60730221003  \ncbg_orig                  \n60730001001            0  \n60730001002            0  \n60730002011            0  \n\n[3 rows x 1794 columns]",
      "text/html": "<div>\n<style scoped>\n    .dataframe tbody tr th:only-of-type {\n        vertical-align: middle;\n    }\n\n    .dataframe tbody tr th {\n        vertical-align: top;\n    }\n\n    .dataframe thead th {\n        text-align: right;\n    }\n</style>\n<table border=\"1\" class=\"dataframe\">\n  <thead>\n    <tr style=\"text-align: right;\">\n      <th></th>\n      <th>60730001001</th>\n      <th>60730001002</th>\n      <th>60730002011</th>\n      <th>60730002021</th>\n      <th>60730002022</th>\n      <th>60730002023</th>\n      <th>60730003001</th>\n      <th>60730003002</th>\n      <th>60730003003</th>\n      <th>60730003004</th>\n      <th>...</th>\n      <th>60730216002</th>\n      <th>60730218001</th>\n      <th>60730218002</th>\n      <th>60730219001</th>\n      <th>60730219002</th>\n      <th>60730220001</th>\n      <th>60730220002</th>\n      <th>60730221001</th>\n      <th>60730221002</th>\n      <th>60730221003</th>\n    </tr>\n    <tr>\n      <th>cbg_orig</th>\n      <th></th>\n      <th></th>\n      <th></th>\n      <th></th>\n      <th></th>\n      <th></th>\n      <th></th>\n      <th></th>\n      <th></th>\n      <th></th>\n      <th></th>\n      <th></th>\n      <th></th>\n      <th></th>\n      <th></th>\n      <th></th>\n      <th></th>\n      <th></th>\n      <th></th>\n      <th></th>\n      <th></th>\n    </tr>\n  </thead>\n  <tbody>\n    <tr>\n      <th>60730001001</th>\n      <td>0</td>\n      <td>0</td>\n      <td>0</td>\n      <td>0</td>\n      <td>0</td>\n      <td>0</td>\n      <td>0</td>\n      <td>0</td>\n      <td>0</td>\n      <td>0</td>\n      <td>...</td>\n      <td>0</td>\n      <td>0</td>\n      <td>0</td>\n      <td>0</td>\n      <td>0</td>\n      <td>0</td>\n      <td>0</td>\n      <td>0</td>\n      <td>0</td>\n      <td>0</td>\n    </tr>\n    <tr>\n      <th>60730001002</th>\n      <td>0</td>\n      <td>0</td>\n      <td>0</td>\n      <td>0</td>\n      <td>0</td>\n      <td>0</td>\n      <td>0</td>\n      <td>0</td>\n      <td>0</td>\n      <td>0</td>\n      <td>...</td>\n      <td>0</td>\n      <td>0</td>\n      <td>0</td>\n      <td>0</td>\n      <td>0</td>\n      <td>0</td>\n      <td>0</td>\n      <td>0</td>\n      <td>0</td>\n      <td>0</td>\n    </tr>\n    <tr>\n      <th>60730002011</th>\n      <td>0</td>\n      <td>0</td>\n      <td>0</td>\n      <td>0</td>\n      <td>0</td>\n      <td>0</td>\n      <td>0</td>\n      <td>0</td>\n      <td>0</td>\n      <td>0</td>\n      <td>...</td>\n      <td>0</td>\n      <td>0</td>\n      <td>0</td>\n      <td>0</td>\n      <td>0</td>\n      <td>0</td>\n      <td>0</td>\n      <td>0</td>\n      <td>0</td>\n      <td>0</td>\n    </tr>\n  </tbody>\n</table>\n<p>3 rows × 1794 columns</p>\n</div>"
     },
     "execution_count": 28,
     "metadata": {},
     "output_type": "execute_result"
    }
   ],
   "source": [
    "from matrixes import create_weights_matrix\n",
    "\n",
    "weights_matrix_csv = './sample_data/weights_10km_bins/weights_matrix_{}km_{}km.csv'\n",
    "for b in distance_bins:\n",
    "    df = create_weights_matrix(distance_matrix_csv, weights_matrix_csv, b)\n",
    "\n",
    "df.head(3)"
   ],
   "metadata": {
    "collapsed": false,
    "pycharm": {
     "name": "#%%\n"
    }
   }
  },
  {
   "cell_type": "markdown",
   "source": [
    "#### 7. Use 2 probability flow matrixes and the weights matrixes to calculate the SpSSIM.\n",
    "Behind-the-scenes helper functions are used to calculate the mean and variance for each probability flow matrix, the covariance of the matrixes, and the local SpSSIM value for each distance bin. A results table with this data generated and saved.\n"
   ],
   "metadata": {
    "collapsed": false,
    "pycharm": {
     "name": "#%% md\n"
    }
   }
  },
  {
   "cell_type": "code",
   "execution_count": 31,
   "outputs": [
    {
     "name": "stdout",
     "output_type": "stream",
     "text": [
      "./sample_data/sd_lodes_2017_flow_probabilities_matrix.csv ./sample_data/sd_lodes_2019_flow_probabilities_matrix.csv 0.5507424989396075\n"
     ]
    }
   ],
   "source": [
    "from spssim_distbased_analysis import calc_global_distbased_spssim\n",
    "\n",
    "results_csv = './sample_data/spssim_distance_based/spssim_results/spssim_distbased_results_lodes2017_lodes2019.csv'\n",
    "spssim, results = calc_global_distbased_spssim(flow_probs2017_matrix_csv, flow_probs2019_matrix_csv, weights_matrix_csv, results_csv, 'cbg_orig', distance_bins)"
   ],
   "metadata": {
    "collapsed": false,
    "pycharm": {
     "name": "#%%\n"
    }
   }
  },
  {
   "cell_type": "markdown",
   "source": [
    "#### In this example, I calculated the similarity between 2017 LODES data and 2019 LODES data.\n",
    "SpSSIM scores range from 0-1 with a score equal to 1 if the flow probabilities matrixes are the same.\n"
   ],
   "metadata": {
    "collapsed": false,
    "pycharm": {
     "name": "#%% md\n"
    }
   }
  },
  {
   "cell_type": "code",
   "execution_count": 32,
   "outputs": [
    {
     "name": "stdout",
     "output_type": "stream",
     "text": [
      "The SpSSIM value is 0.5507424989396075.\n"
     ]
    },
    {
     "data": {
      "text/plain": "                                              matrix1  \\\n0   sample_data/sd_lodes_2017_flow_probabilities_m...   \n1   sample_data/sd_lodes_2017_flow_probabilities_m...   \n2   sample_data/sd_lodes_2017_flow_probabilities_m...   \n3   sample_data/sd_lodes_2017_flow_probabilities_m...   \n4   sample_data/sd_lodes_2017_flow_probabilities_m...   \n5   sample_data/sd_lodes_2017_flow_probabilities_m...   \n6   sample_data/sd_lodes_2017_flow_probabilities_m...   \n7   sample_data/sd_lodes_2017_flow_probabilities_m...   \n8   sample_data/sd_lodes_2017_flow_probabilities_m...   \n9   sample_data/sd_lodes_2017_flow_probabilities_m...   \n10  sample_data/sd_lodes_2017_flow_probabilities_m...   \n11  sample_data/sd_lodes_2017_flow_probabilities_m...   \n\n                                              matrix2 distance_bin constant1  \\\n0   sample_data/sd_lodes_2019_flow_probabilities_m...      (0, 10)         0   \n1   sample_data/sd_lodes_2019_flow_probabilities_m...     (10, 20)         0   \n2   sample_data/sd_lodes_2019_flow_probabilities_m...     (20, 30)         0   \n3   sample_data/sd_lodes_2019_flow_probabilities_m...     (30, 40)         0   \n4   sample_data/sd_lodes_2019_flow_probabilities_m...     (40, 50)         0   \n5   sample_data/sd_lodes_2019_flow_probabilities_m...     (50, 60)         0   \n6   sample_data/sd_lodes_2019_flow_probabilities_m...     (60, 70)         0   \n7   sample_data/sd_lodes_2019_flow_probabilities_m...     (70, 80)         0   \n8   sample_data/sd_lodes_2019_flow_probabilities_m...     (80, 90)         0   \n9   sample_data/sd_lodes_2019_flow_probabilities_m...    (90, 100)         0   \n10  sample_data/sd_lodes_2019_flow_probabilities_m...   (100, 110)         0   \n11  sample_data/sd_lodes_2019_flow_probabilities_m...   (110, 120)         0   \n\n   constant2        n         mean1         mean2     variance1     variance2  \\\n0          0  3218436  2.525394e-04  2.528100e-04  6.109287e-06  6.210212e-06   \n1          0  3218436  1.664072e-04  1.663069e-04  2.703686e-06  2.759377e-06   \n2          0  3218436  7.961712e-05  7.943026e-05  9.366678e-07  9.563944e-07   \n3          0  3218436  2.960345e-05  2.969408e-05  2.580090e-07  2.699642e-07   \n4          0  3218436  1.608152e-05  1.594261e-05  9.247835e-08  9.077109e-08   \n5          0  3218436  8.382213e-06  8.436751e-06  4.641637e-08  4.304496e-08   \n6          0  3218436  3.312648e-06  3.394302e-06  1.375305e-08  1.452843e-08   \n7          0  3218436  1.078548e-06  1.034008e-06  4.379966e-09  3.459700e-09   \n8          0  3218436  3.040730e-07  2.676837e-07  4.823677e-09  3.318812e-09   \n9          0  3218436  7.782013e-08  8.819877e-08  3.982667e-10  5.576804e-10   \n10         0  3218436  7.535533e-09  5.862451e-09  3.826938e-11  2.765305e-11   \n11         0  3218436  2.102025e-09  2.931226e-09  9.580456e-12  2.765307e-11   \n\n      covariance  distbased_spssim  global_spssim  \n0   5.578437e-06      9.056266e-01       0.550742  \n1   2.363007e-06      8.650848e-01       0.550742  \n2   7.774227e-07      8.213366e-01       0.550742  \n3   2.001532e-07      7.581912e-01       0.550742  \n4   5.651546e-08      6.167913e-01       0.550742  \n5   2.598215e-08      5.808454e-01       0.550742  \n6   5.421036e-09      3.832494e-01       0.550742  \n7   9.008138e-10      2.296050e-01       0.550742  \n8   3.094420e-09      7.539348e-01       0.550742  \n9   1.111882e-10      2.308130e-01       0.550742  \n10  1.575924e-11      4.634322e-01       0.550742  \n11 -6.161512e-18     -3.134751e-07       0.550742  ",
      "text/html": "<div>\n<style scoped>\n    .dataframe tbody tr th:only-of-type {\n        vertical-align: middle;\n    }\n\n    .dataframe tbody tr th {\n        vertical-align: top;\n    }\n\n    .dataframe thead th {\n        text-align: right;\n    }\n</style>\n<table border=\"1\" class=\"dataframe\">\n  <thead>\n    <tr style=\"text-align: right;\">\n      <th></th>\n      <th>matrix1</th>\n      <th>matrix2</th>\n      <th>distance_bin</th>\n      <th>constant1</th>\n      <th>constant2</th>\n      <th>n</th>\n      <th>mean1</th>\n      <th>mean2</th>\n      <th>variance1</th>\n      <th>variance2</th>\n      <th>covariance</th>\n      <th>distbased_spssim</th>\n      <th>global_spssim</th>\n    </tr>\n  </thead>\n  <tbody>\n    <tr>\n      <th>0</th>\n      <td>sample_data/sd_lodes_2017_flow_probabilities_m...</td>\n      <td>sample_data/sd_lodes_2019_flow_probabilities_m...</td>\n      <td>(0, 10)</td>\n      <td>0</td>\n      <td>0</td>\n      <td>3218436</td>\n      <td>2.525394e-04</td>\n      <td>2.528100e-04</td>\n      <td>6.109287e-06</td>\n      <td>6.210212e-06</td>\n      <td>5.578437e-06</td>\n      <td>9.056266e-01</td>\n      <td>0.550742</td>\n    </tr>\n    <tr>\n      <th>1</th>\n      <td>sample_data/sd_lodes_2017_flow_probabilities_m...</td>\n      <td>sample_data/sd_lodes_2019_flow_probabilities_m...</td>\n      <td>(10, 20)</td>\n      <td>0</td>\n      <td>0</td>\n      <td>3218436</td>\n      <td>1.664072e-04</td>\n      <td>1.663069e-04</td>\n      <td>2.703686e-06</td>\n      <td>2.759377e-06</td>\n      <td>2.363007e-06</td>\n      <td>8.650848e-01</td>\n      <td>0.550742</td>\n    </tr>\n    <tr>\n      <th>2</th>\n      <td>sample_data/sd_lodes_2017_flow_probabilities_m...</td>\n      <td>sample_data/sd_lodes_2019_flow_probabilities_m...</td>\n      <td>(20, 30)</td>\n      <td>0</td>\n      <td>0</td>\n      <td>3218436</td>\n      <td>7.961712e-05</td>\n      <td>7.943026e-05</td>\n      <td>9.366678e-07</td>\n      <td>9.563944e-07</td>\n      <td>7.774227e-07</td>\n      <td>8.213366e-01</td>\n      <td>0.550742</td>\n    </tr>\n    <tr>\n      <th>3</th>\n      <td>sample_data/sd_lodes_2017_flow_probabilities_m...</td>\n      <td>sample_data/sd_lodes_2019_flow_probabilities_m...</td>\n      <td>(30, 40)</td>\n      <td>0</td>\n      <td>0</td>\n      <td>3218436</td>\n      <td>2.960345e-05</td>\n      <td>2.969408e-05</td>\n      <td>2.580090e-07</td>\n      <td>2.699642e-07</td>\n      <td>2.001532e-07</td>\n      <td>7.581912e-01</td>\n      <td>0.550742</td>\n    </tr>\n    <tr>\n      <th>4</th>\n      <td>sample_data/sd_lodes_2017_flow_probabilities_m...</td>\n      <td>sample_data/sd_lodes_2019_flow_probabilities_m...</td>\n      <td>(40, 50)</td>\n      <td>0</td>\n      <td>0</td>\n      <td>3218436</td>\n      <td>1.608152e-05</td>\n      <td>1.594261e-05</td>\n      <td>9.247835e-08</td>\n      <td>9.077109e-08</td>\n      <td>5.651546e-08</td>\n      <td>6.167913e-01</td>\n      <td>0.550742</td>\n    </tr>\n    <tr>\n      <th>5</th>\n      <td>sample_data/sd_lodes_2017_flow_probabilities_m...</td>\n      <td>sample_data/sd_lodes_2019_flow_probabilities_m...</td>\n      <td>(50, 60)</td>\n      <td>0</td>\n      <td>0</td>\n      <td>3218436</td>\n      <td>8.382213e-06</td>\n      <td>8.436751e-06</td>\n      <td>4.641637e-08</td>\n      <td>4.304496e-08</td>\n      <td>2.598215e-08</td>\n      <td>5.808454e-01</td>\n      <td>0.550742</td>\n    </tr>\n    <tr>\n      <th>6</th>\n      <td>sample_data/sd_lodes_2017_flow_probabilities_m...</td>\n      <td>sample_data/sd_lodes_2019_flow_probabilities_m...</td>\n      <td>(60, 70)</td>\n      <td>0</td>\n      <td>0</td>\n      <td>3218436</td>\n      <td>3.312648e-06</td>\n      <td>3.394302e-06</td>\n      <td>1.375305e-08</td>\n      <td>1.452843e-08</td>\n      <td>5.421036e-09</td>\n      <td>3.832494e-01</td>\n      <td>0.550742</td>\n    </tr>\n    <tr>\n      <th>7</th>\n      <td>sample_data/sd_lodes_2017_flow_probabilities_m...</td>\n      <td>sample_data/sd_lodes_2019_flow_probabilities_m...</td>\n      <td>(70, 80)</td>\n      <td>0</td>\n      <td>0</td>\n      <td>3218436</td>\n      <td>1.078548e-06</td>\n      <td>1.034008e-06</td>\n      <td>4.379966e-09</td>\n      <td>3.459700e-09</td>\n      <td>9.008138e-10</td>\n      <td>2.296050e-01</td>\n      <td>0.550742</td>\n    </tr>\n    <tr>\n      <th>8</th>\n      <td>sample_data/sd_lodes_2017_flow_probabilities_m...</td>\n      <td>sample_data/sd_lodes_2019_flow_probabilities_m...</td>\n      <td>(80, 90)</td>\n      <td>0</td>\n      <td>0</td>\n      <td>3218436</td>\n      <td>3.040730e-07</td>\n      <td>2.676837e-07</td>\n      <td>4.823677e-09</td>\n      <td>3.318812e-09</td>\n      <td>3.094420e-09</td>\n      <td>7.539348e-01</td>\n      <td>0.550742</td>\n    </tr>\n    <tr>\n      <th>9</th>\n      <td>sample_data/sd_lodes_2017_flow_probabilities_m...</td>\n      <td>sample_data/sd_lodes_2019_flow_probabilities_m...</td>\n      <td>(90, 100)</td>\n      <td>0</td>\n      <td>0</td>\n      <td>3218436</td>\n      <td>7.782013e-08</td>\n      <td>8.819877e-08</td>\n      <td>3.982667e-10</td>\n      <td>5.576804e-10</td>\n      <td>1.111882e-10</td>\n      <td>2.308130e-01</td>\n      <td>0.550742</td>\n    </tr>\n    <tr>\n      <th>10</th>\n      <td>sample_data/sd_lodes_2017_flow_probabilities_m...</td>\n      <td>sample_data/sd_lodes_2019_flow_probabilities_m...</td>\n      <td>(100, 110)</td>\n      <td>0</td>\n      <td>0</td>\n      <td>3218436</td>\n      <td>7.535533e-09</td>\n      <td>5.862451e-09</td>\n      <td>3.826938e-11</td>\n      <td>2.765305e-11</td>\n      <td>1.575924e-11</td>\n      <td>4.634322e-01</td>\n      <td>0.550742</td>\n    </tr>\n    <tr>\n      <th>11</th>\n      <td>sample_data/sd_lodes_2017_flow_probabilities_m...</td>\n      <td>sample_data/sd_lodes_2019_flow_probabilities_m...</td>\n      <td>(110, 120)</td>\n      <td>0</td>\n      <td>0</td>\n      <td>3218436</td>\n      <td>2.102025e-09</td>\n      <td>2.931226e-09</td>\n      <td>9.580456e-12</td>\n      <td>2.765307e-11</td>\n      <td>-6.161512e-18</td>\n      <td>-3.134751e-07</td>\n      <td>0.550742</td>\n    </tr>\n  </tbody>\n</table>\n</div>"
     },
     "execution_count": 32,
     "metadata": {},
     "output_type": "execute_result"
    }
   ],
   "source": [
    "print('The SpSSIM value is {}.'.format(spssim))\n",
    "results"
   ],
   "metadata": {
    "collapsed": false,
    "pycharm": {
     "name": "#%%\n"
    }
   }
  },
  {
   "cell_type": "markdown",
   "source": [
    "#### 8. Calculate SpSSIM constants and re-run the analysis.\n",
    "The first iteration of the analysis uses constants equal to zero. After finding all SpSSIM values, calculate the constants such that the least similar matrix pairing has an SpSSIM equal to zero. (The constants adjust the equations so that SpSSIM scores are not negative.)"
   ],
   "metadata": {
    "collapsed": false,
    "pycharm": {
     "name": "#%% md\n"
    }
   }
  },
  {
   "cell_type": "code",
   "execution_count": 33,
   "outputs": [
    {
     "name": "stdout",
     "output_type": "stream",
     "text": [
      "Minimum distbased SpSSIM = -3.13475145332376e-07\n",
      "Updated minimum distbased SpSSIM = 0.0\n",
      "C1 = -1.232301941156727e-17, C2 = 1.2323023240453003e-17\n"
     ]
    }
   ],
   "source": [
    "from spssim_distbased_analysis import calc_distbased_spssim_constants\n",
    "\n",
    "results_directory = ['./sample_data/spssim_distance_based/spssim_results/']\n",
    "constant1, constant2 = calc_distbased_spssim_constants(results_directory)\n",
    "print('C1 = {}, C2 = {}'.format(constant1, constant2))"
   ],
   "metadata": {
    "collapsed": false,
    "pycharm": {
     "name": "#%%\n"
    }
   }
  },
  {
   "cell_type": "markdown",
   "source": [
    "#### Next, re-run the analysis using the updated constants."
   ],
   "metadata": {
    "collapsed": false,
    "pycharm": {
     "name": "#%% md\n"
    }
   }
  },
  {
   "cell_type": "code",
   "execution_count": 34,
   "outputs": [
    {
     "name": "stdout",
     "output_type": "stream",
     "text": [
      "./sample_data/sd_lodes_2017_flow_probabilities_matrix.csv ./sample_data/sd_lodes_2019_flow_probabilities_matrix.csv 0.5507425339213279\n",
      "The SpSSIM value is 0.5507425339213279.\n"
     ]
    },
    {
     "data": {
      "text/plain": "                                             matrix1  \\\n0  sample_data/sd_lodes_2017_flow_probabilities_m...   \n1  sample_data/sd_lodes_2017_flow_probabilities_m...   \n2  sample_data/sd_lodes_2017_flow_probabilities_m...   \n\n                                             matrix2 distance_bin constant1  \\\n0  sample_data/sd_lodes_2019_flow_probabilities_m...      (0, 10)         0   \n1  sample_data/sd_lodes_2019_flow_probabilities_m...     (10, 20)         0   \n2  sample_data/sd_lodes_2019_flow_probabilities_m...     (20, 30)         0   \n\n      constant2        n     mean1     mean2     variance1     variance2  \\\n0  1.232302e-17  3218436  0.000253  0.000253  6.109287e-06  6.210212e-06   \n1  1.232302e-17  3218436  0.000166  0.000166  2.703686e-06  2.759377e-06   \n2  1.232302e-17  3218436  0.000080  0.000079  9.366678e-07  9.563944e-07   \n\n     covariance  distbased_spssim  global_spssim  \n0  5.578437e-06          0.905627       0.550743  \n1  2.363007e-06          0.865085       0.550743  \n2  7.774227e-07          0.821337       0.550743  ",
      "text/html": "<div>\n<style scoped>\n    .dataframe tbody tr th:only-of-type {\n        vertical-align: middle;\n    }\n\n    .dataframe tbody tr th {\n        vertical-align: top;\n    }\n\n    .dataframe thead th {\n        text-align: right;\n    }\n</style>\n<table border=\"1\" class=\"dataframe\">\n  <thead>\n    <tr style=\"text-align: right;\">\n      <th></th>\n      <th>matrix1</th>\n      <th>matrix2</th>\n      <th>distance_bin</th>\n      <th>constant1</th>\n      <th>constant2</th>\n      <th>n</th>\n      <th>mean1</th>\n      <th>mean2</th>\n      <th>variance1</th>\n      <th>variance2</th>\n      <th>covariance</th>\n      <th>distbased_spssim</th>\n      <th>global_spssim</th>\n    </tr>\n  </thead>\n  <tbody>\n    <tr>\n      <th>0</th>\n      <td>sample_data/sd_lodes_2017_flow_probabilities_m...</td>\n      <td>sample_data/sd_lodes_2019_flow_probabilities_m...</td>\n      <td>(0, 10)</td>\n      <td>0</td>\n      <td>1.232302e-17</td>\n      <td>3218436</td>\n      <td>0.000253</td>\n      <td>0.000253</td>\n      <td>6.109287e-06</td>\n      <td>6.210212e-06</td>\n      <td>5.578437e-06</td>\n      <td>0.905627</td>\n      <td>0.550743</td>\n    </tr>\n    <tr>\n      <th>1</th>\n      <td>sample_data/sd_lodes_2017_flow_probabilities_m...</td>\n      <td>sample_data/sd_lodes_2019_flow_probabilities_m...</td>\n      <td>(10, 20)</td>\n      <td>0</td>\n      <td>1.232302e-17</td>\n      <td>3218436</td>\n      <td>0.000166</td>\n      <td>0.000166</td>\n      <td>2.703686e-06</td>\n      <td>2.759377e-06</td>\n      <td>2.363007e-06</td>\n      <td>0.865085</td>\n      <td>0.550743</td>\n    </tr>\n    <tr>\n      <th>2</th>\n      <td>sample_data/sd_lodes_2017_flow_probabilities_m...</td>\n      <td>sample_data/sd_lodes_2019_flow_probabilities_m...</td>\n      <td>(20, 30)</td>\n      <td>0</td>\n      <td>1.232302e-17</td>\n      <td>3218436</td>\n      <td>0.000080</td>\n      <td>0.000079</td>\n      <td>9.366678e-07</td>\n      <td>9.563944e-07</td>\n      <td>7.774227e-07</td>\n      <td>0.821337</td>\n      <td>0.550743</td>\n    </tr>\n  </tbody>\n</table>\n</div>"
     },
     "execution_count": 34,
     "metadata": {},
     "output_type": "execute_result"
    }
   ],
   "source": [
    "results_csv = './sample_data/spssim_distance_based/spssim_results/spssim_results_lodes2017_lodes2019.csv'\n",
    "spssim, results = calc_global_distbased_spssim(flow_probs2017_matrix_csv, flow_probs2019_matrix_csv, weights_matrix_csv, results_csv, 'cbg_orig', distance_bins, constant1, constant2)\n",
    "\n",
    "print('The SpSSIM value is {}.'.format(spssim))\n",
    "results.head(3)"
   ],
   "metadata": {
    "collapsed": false,
    "pycharm": {
     "name": "#%%\n"
    }
   }
  },
  {
   "cell_type": "markdown",
   "source": [
    "#### 9. Finally, generate summaries of the global SpSSIM and local SpSSIM results."
   ],
   "metadata": {
    "collapsed": false,
    "pycharm": {
     "name": "#%% md\n"
    }
   }
  },
  {
   "cell_type": "code",
   "execution_count": 36,
   "outputs": [
    {
     "data": {
      "text/plain": "   global_spssim                         matrix_pair\n0       0.550743  spssim_results_lodes2017_lodes2019",
      "text/html": "<div>\n<style scoped>\n    .dataframe tbody tr th:only-of-type {\n        vertical-align: middle;\n    }\n\n    .dataframe tbody tr th {\n        vertical-align: top;\n    }\n\n    .dataframe thead th {\n        text-align: right;\n    }\n</style>\n<table border=\"1\" class=\"dataframe\">\n  <thead>\n    <tr style=\"text-align: right;\">\n      <th></th>\n      <th>global_spssim</th>\n      <th>matrix_pair</th>\n    </tr>\n  </thead>\n  <tbody>\n    <tr>\n      <th>0</th>\n      <td>0.550743</td>\n      <td>spssim_results_lodes2017_lodes2019</td>\n    </tr>\n  </tbody>\n</table>\n</div>"
     },
     "execution_count": 36,
     "metadata": {},
     "output_type": "execute_result"
    }
   ],
   "source": [
    "from spssim_distbased_analysis import calc_distbased_results_summaries\n",
    "\n",
    "results_directory = './sample_data/spssim_distance_based/spssim_results/'\n",
    "global_summ_csv = './sample_data/spssim_distance_based/global_summary.csv'\n",
    "distbased_summ_csv = './sample_data/spssim_distance_based/distbased_summary.csv'\n",
    "global_summ, distbased_summ = calc_distbased_results_summaries(results_directory, global_summ_csv, distbased_summ_csv)\n",
    "\n",
    "global_summ.head(3)"
   ],
   "metadata": {
    "collapsed": false,
    "pycharm": {
     "name": "#%%\n"
    }
   }
  },
  {
   "cell_type": "code",
   "execution_count": 37,
   "outputs": [
    {
     "data": {
      "text/plain": "  distance_bin  mean_distbased_spssim  min_distbased_spssim  \\\n0      (0, 10)               0.905627              0.905627   \n1     (10, 20)               0.865085              0.865085   \n2     (20, 30)               0.821337              0.821337   \n\n                      min_matrix_pair  max_distbased_spssim  \\\n0  spssim_results_lodes2017_lodes2019              0.905627   \n1  spssim_results_lodes2017_lodes2019              0.865085   \n2  spssim_results_lodes2017_lodes2019              0.821337   \n\n                      max_matrix_pair distbased_spssim_list  \\\n0  spssim_results_lodes2017_lodes2019   [0.905626611568666]   \n1  spssim_results_lodes2017_lodes2019  [0.8650847698576077]   \n2  spssim_results_lodes2017_lodes2019  [0.8213365566574209]   \n\n                           matrix_pairs  \n0  [spssim_results_lodes2017_lodes2019]  \n1  [spssim_results_lodes2017_lodes2019]  \n2  [spssim_results_lodes2017_lodes2019]  ",
      "text/html": "<div>\n<style scoped>\n    .dataframe tbody tr th:only-of-type {\n        vertical-align: middle;\n    }\n\n    .dataframe tbody tr th {\n        vertical-align: top;\n    }\n\n    .dataframe thead th {\n        text-align: right;\n    }\n</style>\n<table border=\"1\" class=\"dataframe\">\n  <thead>\n    <tr style=\"text-align: right;\">\n      <th></th>\n      <th>distance_bin</th>\n      <th>mean_distbased_spssim</th>\n      <th>min_distbased_spssim</th>\n      <th>min_matrix_pair</th>\n      <th>max_distbased_spssim</th>\n      <th>max_matrix_pair</th>\n      <th>distbased_spssim_list</th>\n      <th>matrix_pairs</th>\n    </tr>\n  </thead>\n  <tbody>\n    <tr>\n      <th>0</th>\n      <td>(0, 10)</td>\n      <td>0.905627</td>\n      <td>0.905627</td>\n      <td>spssim_results_lodes2017_lodes2019</td>\n      <td>0.905627</td>\n      <td>spssim_results_lodes2017_lodes2019</td>\n      <td>[0.905626611568666]</td>\n      <td>[spssim_results_lodes2017_lodes2019]</td>\n    </tr>\n    <tr>\n      <th>1</th>\n      <td>(10, 20)</td>\n      <td>0.865085</td>\n      <td>0.865085</td>\n      <td>spssim_results_lodes2017_lodes2019</td>\n      <td>0.865085</td>\n      <td>spssim_results_lodes2017_lodes2019</td>\n      <td>[0.8650847698576077]</td>\n      <td>[spssim_results_lodes2017_lodes2019]</td>\n    </tr>\n    <tr>\n      <th>2</th>\n      <td>(20, 30)</td>\n      <td>0.821337</td>\n      <td>0.821337</td>\n      <td>spssim_results_lodes2017_lodes2019</td>\n      <td>0.821337</td>\n      <td>spssim_results_lodes2017_lodes2019</td>\n      <td>[0.8213365566574209]</td>\n      <td>[spssim_results_lodes2017_lodes2019]</td>\n    </tr>\n  </tbody>\n</table>\n</div>"
     },
     "execution_count": 37,
     "metadata": {},
     "output_type": "execute_result"
    }
   ],
   "source": [
    "distbased_summ.head(3)"
   ],
   "metadata": {
    "collapsed": false,
    "pycharm": {
     "name": "#%%\n"
    }
   }
  },
  {
   "cell_type": "markdown",
   "source": [
    "#### The Python script is available on [GitHub](https://github.com/jlembury/spssim_analysis). Backup data is on [Google Drive](https://drive.google.com/drive/folders/12WrJ_iIWFP6eIQUoisutON2G8xudTM-D?usp=sharing).\n"
   ],
   "metadata": {
    "collapsed": false,
    "pycharm": {
     "name": "#%% md\n"
    }
   }
  }
 ],
 "metadata": {
  "kernelspec": {
   "display_name": "Python 3",
   "language": "python",
   "name": "python3"
  },
  "language_info": {
   "codemirror_mode": {
    "name": "ipython",
    "version": 2
   },
   "file_extension": ".py",
   "mimetype": "text/x-python",
   "name": "python",
   "nbconvert_exporter": "python",
   "pygments_lexer": "ipython2",
   "version": "2.7.6"
  }
 },
 "nbformat": 4,
 "nbformat_minor": 0
}