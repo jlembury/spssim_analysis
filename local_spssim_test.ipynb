{
 "cells": [
  {
   "cell_type": "code",
   "execution_count": 3,
   "outputs": [],
   "source": [
    "import pandas as pd\n",
    "from util import *\n",
    "from copy import deepcopy\n",
    "import warnings\n",
    "warnings.filterwarnings('ignore')\n",
    "\n",
    "csv1 = './sample_data/sd_lodes_2017_raw_matrix.csv'\n",
    "csv2 = './sample_data/sd_lodes_2019_raw_matrix.csv'\n",
    "spssim_outflows_csv = './sample_data/spssim_results/local_spssim_test/spssim_local_outflows_lodes2017_lodes2019.csv'\n",
    "spssim_inflows_csv = './sample_data/spssim_results/local_spssim_test/spssim_local_inflows_lodes2017_lodes2019.csv'"
   ],
   "metadata": {
    "collapsed": false,
    "pycharm": {
     "name": "#%%\n"
    }
   }
  },
  {
   "cell_type": "code",
   "execution_count": 4,
   "outputs": [],
   "source": [
    "def calc_local_spssim(raw_matrix1_csv, raw_matrix2_csv, spssim_csv, c1=0, c2=0, inflow=True):\n",
    "    # INFLOWS = Calculations down columns\n",
    "    # OUTFLOWS = Calculations across rows --> Transpose to calculate down columns\n",
    "\n",
    "    # raw matrix\n",
    "    df1 = pd.read_csv(raw_matrix1_csv)\n",
    "    df1 = df1.set_index('cbg_orig')\n",
    "    for col in list(df1.columns):\n",
    "        df1.loc[col, col] = None\n",
    "\n",
    "    df2 = pd.read_csv(raw_matrix2_csv)\n",
    "    df2 = df2.set_index('cbg_orig')\n",
    "    for col in list(df2.columns):\n",
    "        df2.loc[col, col] = None\n",
    "\n",
    "    if inflow==False:\n",
    "        df1 = df1.transpose()\n",
    "        df2 = df2.transpose()\n",
    "\n",
    "    # get flow probabilities\n",
    "    df1.loc['row_total'] = df1.sum()\n",
    "    flow1 = df1[:-1].div(df1.loc['row_total'])\n",
    "\n",
    "    df2.loc['row_total'] = df2.sum()\n",
    "    flow2 = df2[:-1].div(df2.loc['row_total'])\n",
    "\n",
    "    # n, mean, var\n",
    "    flow1.loc['n'] = flow1.count()\n",
    "    flow1.loc['mean1'] = flow1[0:-1].mean()\n",
    "    flow1.loc['var1'] = flow1[0:-2].var()\n",
    "\n",
    "    flow2.loc['mean2'] = flow2.mean()\n",
    "    flow2.loc['var2'] = flow2[0:-1].var()\n",
    "\n",
    "    # prep for covar\n",
    "    cov1 = flow1\n",
    "    cov1 = cov1 - cov1.loc['mean1']\n",
    "    cov1 = cov1[0:-3]\n",
    "\n",
    "    cov2 = flow2\n",
    "    cov2 = cov2 - cov2.loc['mean2']\n",
    "    cov2 = cov2[0:-2]\n",
    "\n",
    "    # COVARIANCE\n",
    "    cov = pd.DataFrame(data=None, columns=cov1.columns, index=cov1.index)\n",
    "    cov = cov1.mul(cov2)\n",
    "    cov.loc['cov'] = cov.sum()/(cov.count() - 1)\n",
    "\n",
    "    # calculate spssim\n",
    "    spssim = pd.concat([flow1.tail(3), flow2.tail(2), cov.tail(1)])\n",
    "    spssim.loc['c1'] = c1\n",
    "    spssim.loc['c2'] = c2\n",
    "    spssim.loc['local'] = ((2 * spssim.loc['mean1'] * spssim.loc['mean2'] + c1) * (2 * spssim.loc['cov'] + c2)) / ((spssim.loc['mean1'] ** 2 + spssim.loc['mean2'] ** 2 + c1) * (spssim.loc['var1'] + spssim.loc['var2'] + c2))\n",
    "    spssim.loc['global'] = spssim.loc['local'].sum()/spssim.loc['local'].count()\n",
    "\n",
    "    # transpose df\n",
    "    spssim = spssim.transpose()\n",
    "    spssim.to_csv(spssim_csv)\n",
    "    return spssim\n",
    "\n",
    "\n",
    "def calc_constants(results_dir_list):\n",
    "    # read all results into one df\n",
    "    for r in results_dir_list:\n",
    "        tmp = combine_csv_files(r)\n",
    "        if r == results_dir_list[0]:\n",
    "            df = tmp.copy(deep=True)\n",
    "        else:\n",
    "            df = pd.concat([df, tmp], ignore_index=True)\n",
    "\n",
    "    # find min local spssim to calculate constants\n",
    "    min_local = df['local'].min()\n",
    "    print('Minimum local SpSSIM = {}'.format(min_local))\n",
    "\n",
    "    min_index = df.index[df['local'] == min_local].tolist()\n",
    "    df1_mean = df['mean1'].loc[min_index[0]]\n",
    "    df2_mean = df['mean2'].loc[min_index[0]]\n",
    "    df1_var = df['var1'].loc[min_index[0]]\n",
    "    df2_var = df['var2'].loc[min_index[0]]\n",
    "    covar = df['cov'].loc[min_index[0]]\n",
    "\n",
    "    # find constants c1 and c2 such that least similar index score = 0\n",
    "    # spssim = ((2 * df1_mean * df2_mean + c1) * (2 * covar + c2)) / (df1_mean ** 2 + df2_mean ** 2 + c1) * (df1_var + df2_var + c2))\n",
    "    c1a = -1 * (2 * df1_mean * df2_mean)\n",
    "    c1b = -1 * (df1_mean ** 2 + df2_mean ** 2)\n",
    "    c1 = max(c1a, c1b)\n",
    "    if c1 < 0:\n",
    "        c1 = 0\n",
    "\n",
    "    c2a = -1 * (2 * covar)\n",
    "    c2b = -1 * (df1_var + df2_var)\n",
    "    c2 = max(c2a, c2b)\n",
    "    if c2 < 0:\n",
    "        c2 = 0\n",
    "\n",
    "    spssim = ((2 * df1_mean * df2_mean + c1) * (2 * covar + c2)) / ((df1_mean ** 2 + df2_mean ** 2 + c1) * (df1_var + df2_var + c2))\n",
    "    print('Updated minimum local SpSSIM = {}'.format(spssim))\n",
    "\n",
    "    return c1, c2\n"
   ],
   "metadata": {
    "collapsed": false,
    "pycharm": {
     "name": "#%%\n"
    }
   }
  },
  {
   "cell_type": "code",
   "execution_count": 3,
   "outputs": [],
   "source": [
    "# calc inflow spssim\n",
    "df_in = calc_local_spssim(csv1, csv2, spssim_inflows_csv)"
   ],
   "metadata": {
    "collapsed": false,
    "pycharm": {
     "name": "#%%\n"
    }
   }
  },
  {
   "cell_type": "code",
   "execution_count": 4,
   "outputs": [],
   "source": [
    "# calc outflow spssim\n",
    "df_out = calc_local_spssim(csv1, csv2, spssim_outflows_csv, inflow=False)"
   ],
   "metadata": {
    "collapsed": false,
    "pycharm": {
     "name": "#%%\n"
    }
   }
  },
  {
   "cell_type": "code",
   "execution_count": 5,
   "outputs": [
    {
     "name": "stdout",
     "output_type": "stream",
     "text": [
      "Minimum local SpSSIM = -4.339228784077092e-18\n",
      "Updated minimum local SpSSIM = 0.0\n"
     ]
    },
    {
     "data": {
      "text/plain": "cbg_orig          n     mean1      var1     mean2      var2           cov  \\\n60730001001  1794.0  0.000557  0.000029  0.000557  0.000052  2.535471e-05   \n60730001002  1794.0  0.000557  0.000013  0.000557  0.000010  8.791829e-06   \n60730002011  1794.0  0.000557  0.000003  0.000557  0.000002  1.774884e-06   \n60730002021  1794.0  0.000557  0.000003  0.000557  0.000002  1.010381e-06   \n60730002022  1794.0  0.000557  0.000004  0.000557  0.000006  5.786295e-07   \n\ncbg_orig      c1            c2     local   global  \n60730001001  0.0  6.217664e-07  0.632611  0.47461  \n60730001002  0.0  6.217664e-07  0.775977  0.47461  \n60730002011  0.0  6.217664e-07  0.722710  0.47461  \n60730002021  0.0  6.217664e-07  0.487073  0.47461  \n60730002022  0.0  6.217664e-07  0.160484  0.47461  ",
      "text/html": "<div>\n<style scoped>\n    .dataframe tbody tr th:only-of-type {\n        vertical-align: middle;\n    }\n\n    .dataframe tbody tr th {\n        vertical-align: top;\n    }\n\n    .dataframe thead th {\n        text-align: right;\n    }\n</style>\n<table border=\"1\" class=\"dataframe\">\n  <thead>\n    <tr style=\"text-align: right;\">\n      <th>cbg_orig</th>\n      <th>n</th>\n      <th>mean1</th>\n      <th>var1</th>\n      <th>mean2</th>\n      <th>var2</th>\n      <th>cov</th>\n      <th>c1</th>\n      <th>c2</th>\n      <th>local</th>\n      <th>global</th>\n    </tr>\n  </thead>\n  <tbody>\n    <tr>\n      <th>60730001001</th>\n      <td>1794.0</td>\n      <td>0.000557</td>\n      <td>0.000029</td>\n      <td>0.000557</td>\n      <td>0.000052</td>\n      <td>2.535471e-05</td>\n      <td>0.0</td>\n      <td>6.217664e-07</td>\n      <td>0.632611</td>\n      <td>0.47461</td>\n    </tr>\n    <tr>\n      <th>60730001002</th>\n      <td>1794.0</td>\n      <td>0.000557</td>\n      <td>0.000013</td>\n      <td>0.000557</td>\n      <td>0.000010</td>\n      <td>8.791829e-06</td>\n      <td>0.0</td>\n      <td>6.217664e-07</td>\n      <td>0.775977</td>\n      <td>0.47461</td>\n    </tr>\n    <tr>\n      <th>60730002011</th>\n      <td>1794.0</td>\n      <td>0.000557</td>\n      <td>0.000003</td>\n      <td>0.000557</td>\n      <td>0.000002</td>\n      <td>1.774884e-06</td>\n      <td>0.0</td>\n      <td>6.217664e-07</td>\n      <td>0.722710</td>\n      <td>0.47461</td>\n    </tr>\n    <tr>\n      <th>60730002021</th>\n      <td>1794.0</td>\n      <td>0.000557</td>\n      <td>0.000003</td>\n      <td>0.000557</td>\n      <td>0.000002</td>\n      <td>1.010381e-06</td>\n      <td>0.0</td>\n      <td>6.217664e-07</td>\n      <td>0.487073</td>\n      <td>0.47461</td>\n    </tr>\n    <tr>\n      <th>60730002022</th>\n      <td>1794.0</td>\n      <td>0.000557</td>\n      <td>0.000004</td>\n      <td>0.000557</td>\n      <td>0.000006</td>\n      <td>5.786295e-07</td>\n      <td>0.0</td>\n      <td>6.217664e-07</td>\n      <td>0.160484</td>\n      <td>0.47461</td>\n    </tr>\n  </tbody>\n</table>\n</div>"
     },
     "execution_count": 5,
     "metadata": {},
     "output_type": "execute_result"
    }
   ],
   "source": [
    "# calc constants\n",
    "const1, const2 = calc_constants(['./sample_data/spssim_results/local_spssim_test/'])\n",
    "\n",
    "\n",
    "# rerun spssim with new constants\n",
    "df_in2 = calc_local_spssim(csv1, csv2, spssim_inflows_csv, c1=const1, c2=const2)\n",
    "df_in2.head()"
   ],
   "metadata": {
    "collapsed": false,
    "pycharm": {
     "name": "#%%\n"
    }
   }
  },
  {
   "cell_type": "code",
   "execution_count": 6,
   "outputs": [
    {
     "data": {
      "text/plain": "                  n     mean1      var1     mean2      var2       cov   c1  \\\ncbg_orig                                                                     \n60730001001  1794.0  0.000557  0.000009  0.000557  0.000009  0.000008  0.0   \n60730001002  1794.0  0.000557  0.000010  0.000557  0.000010  0.000009  0.0   \n60730002011  1794.0  0.000557  0.000010  0.000557  0.000011  0.000009  0.0   \n60730002021  1794.0  0.000557  0.000010  0.000557  0.000012  0.000010  0.0   \n60730002022  1794.0  0.000557  0.000008  0.000557  0.000009  0.000007  0.0   \n\n                       c2     local    global  \ncbg_orig                                       \n60730001001  6.217664e-07  0.873479  0.873446  \n60730001002  6.217664e-07  0.901959  0.873446  \n60730002011  6.217664e-07  0.900158  0.873446  \n60730002021  6.217664e-07  0.912518  0.873446  \n60730002022  6.217664e-07  0.826683  0.873446  ",
      "text/html": "<div>\n<style scoped>\n    .dataframe tbody tr th:only-of-type {\n        vertical-align: middle;\n    }\n\n    .dataframe tbody tr th {\n        vertical-align: top;\n    }\n\n    .dataframe thead th {\n        text-align: right;\n    }\n</style>\n<table border=\"1\" class=\"dataframe\">\n  <thead>\n    <tr style=\"text-align: right;\">\n      <th></th>\n      <th>n</th>\n      <th>mean1</th>\n      <th>var1</th>\n      <th>mean2</th>\n      <th>var2</th>\n      <th>cov</th>\n      <th>c1</th>\n      <th>c2</th>\n      <th>local</th>\n      <th>global</th>\n    </tr>\n    <tr>\n      <th>cbg_orig</th>\n      <th></th>\n      <th></th>\n      <th></th>\n      <th></th>\n      <th></th>\n      <th></th>\n      <th></th>\n      <th></th>\n      <th></th>\n      <th></th>\n    </tr>\n  </thead>\n  <tbody>\n    <tr>\n      <th>60730001001</th>\n      <td>1794.0</td>\n      <td>0.000557</td>\n      <td>0.000009</td>\n      <td>0.000557</td>\n      <td>0.000009</td>\n      <td>0.000008</td>\n      <td>0.0</td>\n      <td>6.217664e-07</td>\n      <td>0.873479</td>\n      <td>0.873446</td>\n    </tr>\n    <tr>\n      <th>60730001002</th>\n      <td>1794.0</td>\n      <td>0.000557</td>\n      <td>0.000010</td>\n      <td>0.000557</td>\n      <td>0.000010</td>\n      <td>0.000009</td>\n      <td>0.0</td>\n      <td>6.217664e-07</td>\n      <td>0.901959</td>\n      <td>0.873446</td>\n    </tr>\n    <tr>\n      <th>60730002011</th>\n      <td>1794.0</td>\n      <td>0.000557</td>\n      <td>0.000010</td>\n      <td>0.000557</td>\n      <td>0.000011</td>\n      <td>0.000009</td>\n      <td>0.0</td>\n      <td>6.217664e-07</td>\n      <td>0.900158</td>\n      <td>0.873446</td>\n    </tr>\n    <tr>\n      <th>60730002021</th>\n      <td>1794.0</td>\n      <td>0.000557</td>\n      <td>0.000010</td>\n      <td>0.000557</td>\n      <td>0.000012</td>\n      <td>0.000010</td>\n      <td>0.0</td>\n      <td>6.217664e-07</td>\n      <td>0.912518</td>\n      <td>0.873446</td>\n    </tr>\n    <tr>\n      <th>60730002022</th>\n      <td>1794.0</td>\n      <td>0.000557</td>\n      <td>0.000008</td>\n      <td>0.000557</td>\n      <td>0.000009</td>\n      <td>0.000007</td>\n      <td>0.0</td>\n      <td>6.217664e-07</td>\n      <td>0.826683</td>\n      <td>0.873446</td>\n    </tr>\n  </tbody>\n</table>\n</div>"
     },
     "execution_count": 6,
     "metadata": {},
     "output_type": "execute_result"
    }
   ],
   "source": [
    "# rerun spssim with new constants\n",
    "df_out2 = calc_local_spssim(csv1, csv2, spssim_outflows_csv, c1=const1, c2=const2, inflow=False)\n",
    "df_out2.head()"
   ],
   "metadata": {
    "collapsed": false,
    "pycharm": {
     "name": "#%%\n"
    }
   }
  },
  {
   "cell_type": "code",
   "execution_count": 7,
   "outputs": [
    {
     "name": "stdout",
     "output_type": "stream",
     "text": [
      "0.0 0.13796241889307356\n"
     ]
    }
   ],
   "source": [
    "print(df_in2['local'].min(), df_out2['local'].min())\n"
   ],
   "metadata": {
    "collapsed": false,
    "pycharm": {
     "name": "#%%\n"
    }
   }
  }
 ],
 "metadata": {
  "kernelspec": {
   "display_name": "Python 3",
   "language": "python",
   "name": "python3"
  },
  "language_info": {
   "codemirror_mode": {
    "name": "ipython",
    "version": 2
   },
   "file_extension": ".py",
   "mimetype": "text/x-python",
   "name": "python",
   "nbconvert_exporter": "python",
   "pygments_lexer": "ipython2",
   "version": "2.7.6"
  }
 },
 "nbformat": 4,
 "nbformat_minor": 0
}