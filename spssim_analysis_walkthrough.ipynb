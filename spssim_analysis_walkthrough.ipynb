{
 "cells": [
  {
   "cell_type": "markdown",
   "source": [
    "### Walkthrough of the SpSSIM Analysis & Python Script\n",
    "**Jessica Embury, San Diego State University, Fall 2022**\n",
    "\n",
    "Reference Literature: *Jin, C., Nara, A., Yang, J.-A., Tsou, M.-H. (2020). Similarity measurement on human mobility data with spatially weighted structural similarity index (SpSSIM). Transactions in GIS, 24, 104-122. [https://doi.org/10.1111/tgis.12590](https://doi.org/10.1111/tgis.12590)*"
   ],
   "metadata": {
    "collapsed": false,
    "pycharm": {
     "name": "#%% md\n"
    }
   }
  },
  {
   "cell_type": "markdown",
   "source": [
    "#### Explanation of Python files\n",
    "- *util.py*: general functions that support the analysis, but are not specific to it\n",
    "- *matrixes.py*: functions for the generation of analysis matrixes (flow probabilities, weights)\n",
    "- *analysis.py*: functions for calculation of SpSSIM values\n",
    "- *main.py*: file path variables and script to run the analysis"
   ],
   "metadata": {
    "collapsed": false,
    "pycharm": {
     "name": "#%% md\n"
    }
   }
  },
  {
   "cell_type": "markdown",
   "source": [
    "#### 1. Create a distance matrix with a row and column for every Census Block Group (CBG).\n",
    "Each value is the distance between the row CBG and the column CBG in kilometers (km).\n",
    "**Note:** This function uses a cross join and takes a long time to run!"
   ],
   "metadata": {
    "collapsed": false,
    "pycharm": {
     "name": "#%% md\n"
    }
   }
  },
  {
   "cell_type": "code",
   "execution_count": 16,
   "outputs": [
    {
     "data": {
      "text/plain": "      cbg_orig  60730001001  60730001002  60730002011  60730002021  \\\n0  60730001001          0.0          0.0          0.0          0.4   \n1  60730001002          0.0          0.0          0.3          0.3   \n2  60730002011          0.0          0.3          0.0          0.1   \n\n   60730002022  60730002023  60730003001  60730003002  60730003003  ...  \\\n0          0.0          0.5          0.9          1.4          1.7  ...   \n1          0.0          0.5          1.2          1.6          1.9  ...   \n2          0.0          0.0          0.1          0.5          0.8  ...   \n\n   60730216002  60730218001  60730218002  60730219001  60730219002  \\\n0          7.4          6.6          5.6          8.9          9.3   \n1          7.1          6.2          5.2          8.7          9.2   \n2          7.5          6.8          5.7          8.5          8.8   \n\n   60730220001  60730220002  60730221001  60730221002  60730221003  \n0         10.6         11.3         40.9         40.0         38.6  \n1         10.6         11.4         41.0         40.1         38.7  \n2          9.9         10.6         41.3         40.4         39.1  \n\n[3 rows x 1795 columns]",
      "text/html": "<div>\n<style scoped>\n    .dataframe tbody tr th:only-of-type {\n        vertical-align: middle;\n    }\n\n    .dataframe tbody tr th {\n        vertical-align: top;\n    }\n\n    .dataframe thead th {\n        text-align: right;\n    }\n</style>\n<table border=\"1\" class=\"dataframe\">\n  <thead>\n    <tr style=\"text-align: right;\">\n      <th></th>\n      <th>cbg_orig</th>\n      <th>60730001001</th>\n      <th>60730001002</th>\n      <th>60730002011</th>\n      <th>60730002021</th>\n      <th>60730002022</th>\n      <th>60730002023</th>\n      <th>60730003001</th>\n      <th>60730003002</th>\n      <th>60730003003</th>\n      <th>...</th>\n      <th>60730216002</th>\n      <th>60730218001</th>\n      <th>60730218002</th>\n      <th>60730219001</th>\n      <th>60730219002</th>\n      <th>60730220001</th>\n      <th>60730220002</th>\n      <th>60730221001</th>\n      <th>60730221002</th>\n      <th>60730221003</th>\n    </tr>\n  </thead>\n  <tbody>\n    <tr>\n      <th>0</th>\n      <td>60730001001</td>\n      <td>0.0</td>\n      <td>0.0</td>\n      <td>0.0</td>\n      <td>0.4</td>\n      <td>0.0</td>\n      <td>0.5</td>\n      <td>0.9</td>\n      <td>1.4</td>\n      <td>1.7</td>\n      <td>...</td>\n      <td>7.4</td>\n      <td>6.6</td>\n      <td>5.6</td>\n      <td>8.9</td>\n      <td>9.3</td>\n      <td>10.6</td>\n      <td>11.3</td>\n      <td>40.9</td>\n      <td>40.0</td>\n      <td>38.6</td>\n    </tr>\n    <tr>\n      <th>1</th>\n      <td>60730001002</td>\n      <td>0.0</td>\n      <td>0.0</td>\n      <td>0.3</td>\n      <td>0.3</td>\n      <td>0.0</td>\n      <td>0.5</td>\n      <td>1.2</td>\n      <td>1.6</td>\n      <td>1.9</td>\n      <td>...</td>\n      <td>7.1</td>\n      <td>6.2</td>\n      <td>5.2</td>\n      <td>8.7</td>\n      <td>9.2</td>\n      <td>10.6</td>\n      <td>11.4</td>\n      <td>41.0</td>\n      <td>40.1</td>\n      <td>38.7</td>\n    </tr>\n    <tr>\n      <th>2</th>\n      <td>60730002011</td>\n      <td>0.0</td>\n      <td>0.3</td>\n      <td>0.0</td>\n      <td>0.1</td>\n      <td>0.0</td>\n      <td>0.0</td>\n      <td>0.1</td>\n      <td>0.5</td>\n      <td>0.8</td>\n      <td>...</td>\n      <td>7.5</td>\n      <td>6.8</td>\n      <td>5.7</td>\n      <td>8.5</td>\n      <td>8.8</td>\n      <td>9.9</td>\n      <td>10.6</td>\n      <td>41.3</td>\n      <td>40.4</td>\n      <td>39.1</td>\n    </tr>\n  </tbody>\n</table>\n<p>3 rows × 1795 columns</p>\n</div>"
     },
     "execution_count": 16,
     "metadata": {},
     "output_type": "execute_result"
    }
   ],
   "source": [
    "import pandas as pd\n",
    "from matrixes import create_distance_matrix\n",
    "\n",
    "cbg_shapefile = './data/source_data/CENSUS_BLOCKGROUPTIGER2010/CENSUS_BLOCKGROUPTIGER2010.shp'\n",
    "bg_csv = '/data/source_data/cbgs_2019.csv'\n",
    "distance_matrix_csv = './data/cbg_distance_matrix.csv'\n",
    "\n",
    "distance_matrix = create_distance_matrix(cbg_shapefile, bg_csv, distance_matrix_csv)\n",
    "distance_matrix.head(3)"
   ],
   "metadata": {
    "collapsed": false,
    "pycharm": {
     "name": "#%%\n"
    }
   }
  },
  {
   "cell_type": "markdown",
   "source": [
    "#### 2. Download Origin-Destination (O-D) data and save as .CSV files.\n",
    "These tables have a record for each origin, destination, and mobility value (e.g., job, device count). Below is a sample of the LODES 2019 O-D table."
   ],
   "metadata": {
    "collapsed": false,
    "pycharm": {
     "name": "#%% md\n"
    }
   }
  },
  {
   "cell_type": "code",
   "execution_count": 23,
   "outputs": [
    {
     "name": "stdout",
     "output_type": "stream",
     "text": [
      "The LODES 2019 O-D table has 428273 rows.\n"
     ]
    },
    {
     "data": {
      "text/plain": "      cbg_orig     cbg_dest  num_jobs\n0  60730001001  60730001001         3\n1  60730001001  60730001002        12\n2  60730001001  60730002011         2",
      "text/html": "<div>\n<style scoped>\n    .dataframe tbody tr th:only-of-type {\n        vertical-align: middle;\n    }\n\n    .dataframe tbody tr th {\n        vertical-align: top;\n    }\n\n    .dataframe thead th {\n        text-align: right;\n    }\n</style>\n<table border=\"1\" class=\"dataframe\">\n  <thead>\n    <tr style=\"text-align: right;\">\n      <th></th>\n      <th>cbg_orig</th>\n      <th>cbg_dest</th>\n      <th>num_jobs</th>\n    </tr>\n  </thead>\n  <tbody>\n    <tr>\n      <th>0</th>\n      <td>60730001001</td>\n      <td>60730001001</td>\n      <td>3</td>\n    </tr>\n    <tr>\n      <th>1</th>\n      <td>60730001001</td>\n      <td>60730001002</td>\n      <td>12</td>\n    </tr>\n    <tr>\n      <th>2</th>\n      <td>60730001001</td>\n      <td>60730002011</td>\n      <td>2</td>\n    </tr>\n  </tbody>\n</table>\n</div>"
     },
     "execution_count": 23,
     "metadata": {},
     "output_type": "execute_result"
    }
   ],
   "source": [
    "od_table_csv = './data/source_data/lodes_od_2019.csv'\n",
    "od_df = pd.read_csv(od_table_csv)\n",
    "print('The LODES 2019 O-D table has {} rows.'.format(len(lodes_od_df)))\n",
    "od_df.head(3)"
   ],
   "metadata": {
    "collapsed": false,
    "pycharm": {
     "name": "#%%\n"
    }
   }
  },
  {
   "cell_type": "markdown",
   "source": [
    "#### 3. Convert the O-D table into an O-D matrix with one row for each origin CBG and one column for each destination CBG."
   ],
   "metadata": {
    "collapsed": false,
    "pycharm": {
     "name": "#%% md\n"
    }
   }
  },
  {
   "cell_type": "code",
   "execution_count": 17,
   "outputs": [
    {
     "name": "stdout",
     "output_type": "stream",
     "text": [
      "./data/source_data/lodes_od_2019.csv\n",
      "O-D table has 428273 rows.\n",
      "Pivot table has 1794 rows and 1794 columns. 0 differences: []\n"
     ]
    },
    {
     "data": {
      "text/plain": "cbg_dest     60730001001  60730001002  60730002011  60730002021  60730002022  \\\ncbg_orig                                                                       \n60730001001          3.0         12.0          2.0          0.0          0.0   \n60730001002         14.0         18.0          6.0          3.0          0.0   \n60730002011          0.0          0.0         37.0          0.0          1.0   \n\ncbg_dest     60730002023  60730003001  60730003002  60730003003  60730003004  \\\ncbg_orig                                                                       \n60730001001          2.0          0.0          0.0          2.0          0.0   \n60730001002          1.0          0.0          0.0          6.0          0.0   \n60730002011          0.0          0.0          2.0          3.0          1.0   \n\ncbg_dest     ...  60730216002  60730218001  60730218002  60730219001  \\\ncbg_orig     ...                                                       \n60730001001  ...          1.0          0.0          0.0          0.0   \n60730001002  ...          2.0          0.0          0.0          1.0   \n60730002011  ...          0.0          2.0          0.0         14.0   \n\ncbg_dest     60730219002  60730220001  60730220002  60730221001  60730221002  \\\ncbg_orig                                                                       \n60730001001          0.0          0.0          0.0          4.0          2.0   \n60730001002          0.0          0.0          0.0          7.0          0.0   \n60730002011          1.0          0.0          0.0          2.0          0.0   \n\ncbg_dest     60730221003  \ncbg_orig                  \n60730001001          0.0  \n60730001002          0.0  \n60730002011          0.0  \n\n[3 rows x 1794 columns]",
      "text/html": "<div>\n<style scoped>\n    .dataframe tbody tr th:only-of-type {\n        vertical-align: middle;\n    }\n\n    .dataframe tbody tr th {\n        vertical-align: top;\n    }\n\n    .dataframe thead th {\n        text-align: right;\n    }\n</style>\n<table border=\"1\" class=\"dataframe\">\n  <thead>\n    <tr style=\"text-align: right;\">\n      <th>cbg_dest</th>\n      <th>60730001001</th>\n      <th>60730001002</th>\n      <th>60730002011</th>\n      <th>60730002021</th>\n      <th>60730002022</th>\n      <th>60730002023</th>\n      <th>60730003001</th>\n      <th>60730003002</th>\n      <th>60730003003</th>\n      <th>60730003004</th>\n      <th>...</th>\n      <th>60730216002</th>\n      <th>60730218001</th>\n      <th>60730218002</th>\n      <th>60730219001</th>\n      <th>60730219002</th>\n      <th>60730220001</th>\n      <th>60730220002</th>\n      <th>60730221001</th>\n      <th>60730221002</th>\n      <th>60730221003</th>\n    </tr>\n    <tr>\n      <th>cbg_orig</th>\n      <th></th>\n      <th></th>\n      <th></th>\n      <th></th>\n      <th></th>\n      <th></th>\n      <th></th>\n      <th></th>\n      <th></th>\n      <th></th>\n      <th></th>\n      <th></th>\n      <th></th>\n      <th></th>\n      <th></th>\n      <th></th>\n      <th></th>\n      <th></th>\n      <th></th>\n      <th></th>\n      <th></th>\n    </tr>\n  </thead>\n  <tbody>\n    <tr>\n      <th>60730001001</th>\n      <td>3.0</td>\n      <td>12.0</td>\n      <td>2.0</td>\n      <td>0.0</td>\n      <td>0.0</td>\n      <td>2.0</td>\n      <td>0.0</td>\n      <td>0.0</td>\n      <td>2.0</td>\n      <td>0.0</td>\n      <td>...</td>\n      <td>1.0</td>\n      <td>0.0</td>\n      <td>0.0</td>\n      <td>0.0</td>\n      <td>0.0</td>\n      <td>0.0</td>\n      <td>0.0</td>\n      <td>4.0</td>\n      <td>2.0</td>\n      <td>0.0</td>\n    </tr>\n    <tr>\n      <th>60730001002</th>\n      <td>14.0</td>\n      <td>18.0</td>\n      <td>6.0</td>\n      <td>3.0</td>\n      <td>0.0</td>\n      <td>1.0</td>\n      <td>0.0</td>\n      <td>0.0</td>\n      <td>6.0</td>\n      <td>0.0</td>\n      <td>...</td>\n      <td>2.0</td>\n      <td>0.0</td>\n      <td>0.0</td>\n      <td>1.0</td>\n      <td>0.0</td>\n      <td>0.0</td>\n      <td>0.0</td>\n      <td>7.0</td>\n      <td>0.0</td>\n      <td>0.0</td>\n    </tr>\n    <tr>\n      <th>60730002011</th>\n      <td>0.0</td>\n      <td>0.0</td>\n      <td>37.0</td>\n      <td>0.0</td>\n      <td>1.0</td>\n      <td>0.0</td>\n      <td>0.0</td>\n      <td>2.0</td>\n      <td>3.0</td>\n      <td>1.0</td>\n      <td>...</td>\n      <td>0.0</td>\n      <td>2.0</td>\n      <td>0.0</td>\n      <td>14.0</td>\n      <td>1.0</td>\n      <td>0.0</td>\n      <td>0.0</td>\n      <td>2.0</td>\n      <td>0.0</td>\n      <td>0.0</td>\n    </tr>\n  </tbody>\n</table>\n<p>3 rows × 1794 columns</p>\n</div>"
     },
     "execution_count": 17,
     "metadata": {},
     "output_type": "execute_result"
    }
   ],
   "source": [
    "from matrixes import odtable2matrix\n",
    "\n",
    "od_raw_matrix_csv = './data/raw_matrix/sd_lodes_2019_raw_matrix.csv'\n",
    "od_matrix = odtable2matrix(od_table_csv, od_raw_matrix_csv, 'cbg_orig', 'cbg_dest', 'num_jobs')\n",
    "od_matrix.head(3)"
   ],
   "metadata": {
    "collapsed": false,
    "pycharm": {
     "name": "#%%\n"
    }
   }
  },
  {
   "cell_type": "markdown",
   "source": [
    "#### 4. Convert the O-D matrix into a flow probabilities matrix with one row for each origin CBG and one column for each destination CBG.\n",
    "The value is now the probability of the origin CBG row having flow into the destination CBG column. The sum of each row equals 1."
   ],
   "metadata": {
    "collapsed": false,
    "pycharm": {
     "name": "#%% md\n"
    }
   }
  },
  {
   "cell_type": "code",
   "execution_count": 18,
   "outputs": [
    {
     "name": "stdout",
     "output_type": "stream",
     "text": [
      "Raw matrix has 1794 rows. Probabilities matrix has 1794 rows.\n",
      "[1. 1. 1. 1. 1. 1. 1. 1. 1. 1. 1. 1. 1. 1. 1. 1. 1. 1. 1. 1. 1. 1. 1. 1.\n",
      " 1. 1. 1. 1. 1. 1. 1. 1. 1. 1. 1. 1. 1. 1. 1. 1. 1. 1. 1. 1. 1. 1. 1. 1.\n",
      " 1. 1. 1. 1. 1. 1. 1. 1. 1. 1. 1. 1. 1. 1. 1. 1. 1. 1. 1. 1. 1. 1. 1. 1.\n",
      " 1. 1. 1. 1. 1. 1. 1. 1. 1. 1. 1. 1. 1. 1. 1. 1. 1. 1. 1. 1. 1. 1. 1. 1.\n",
      " 1. 1. 1.]\n"
     ]
    },
    {
     "data": {
      "text/plain": "             60730001001  60730001002  60730002011  60730002021  60730002022  \\\ncbg_orig                                                                       \n60730001001     0.006834     0.027335     0.004556     0.000000     0.000000   \n60730001002     0.025135     0.032316     0.010772     0.005386     0.000000   \n60730002011     0.000000     0.000000     0.047558     0.000000     0.001285   \n\n             60730002023  60730003001  60730003002  60730003003  60730003004  \\\ncbg_orig                                                                       \n60730001001     0.004556          0.0     0.000000     0.004556     0.000000   \n60730001002     0.001795          0.0     0.000000     0.010772     0.000000   \n60730002011     0.000000          0.0     0.002571     0.003856     0.001285   \n\n             ...  60730218001  60730218002  60730219001  60730219002  \\\ncbg_orig     ...                                                       \n60730001001  ...     0.000000          0.0     0.000000     0.000000   \n60730001002  ...     0.000000          0.0     0.001795     0.000000   \n60730002011  ...     0.002571          0.0     0.017995     0.001285   \n\n             60730220001  60730220002  60730221001  60730221002  60730221003  \\\ncbg_orig                                                                       \n60730001001          0.0          0.0     0.009112     0.004556          0.0   \n60730001002          0.0          0.0     0.012567     0.000000          0.0   \n60730002011          0.0          0.0     0.002571     0.000000          0.0   \n\n             row_total  \ncbg_orig                \n60730001001        1.0  \n60730001002        1.0  \n60730002011        1.0  \n\n[3 rows x 1795 columns]",
      "text/html": "<div>\n<style scoped>\n    .dataframe tbody tr th:only-of-type {\n        vertical-align: middle;\n    }\n\n    .dataframe tbody tr th {\n        vertical-align: top;\n    }\n\n    .dataframe thead th {\n        text-align: right;\n    }\n</style>\n<table border=\"1\" class=\"dataframe\">\n  <thead>\n    <tr style=\"text-align: right;\">\n      <th></th>\n      <th>60730001001</th>\n      <th>60730001002</th>\n      <th>60730002011</th>\n      <th>60730002021</th>\n      <th>60730002022</th>\n      <th>60730002023</th>\n      <th>60730003001</th>\n      <th>60730003002</th>\n      <th>60730003003</th>\n      <th>60730003004</th>\n      <th>...</th>\n      <th>60730218001</th>\n      <th>60730218002</th>\n      <th>60730219001</th>\n      <th>60730219002</th>\n      <th>60730220001</th>\n      <th>60730220002</th>\n      <th>60730221001</th>\n      <th>60730221002</th>\n      <th>60730221003</th>\n      <th>row_total</th>\n    </tr>\n    <tr>\n      <th>cbg_orig</th>\n      <th></th>\n      <th></th>\n      <th></th>\n      <th></th>\n      <th></th>\n      <th></th>\n      <th></th>\n      <th></th>\n      <th></th>\n      <th></th>\n      <th></th>\n      <th></th>\n      <th></th>\n      <th></th>\n      <th></th>\n      <th></th>\n      <th></th>\n      <th></th>\n      <th></th>\n      <th></th>\n      <th></th>\n    </tr>\n  </thead>\n  <tbody>\n    <tr>\n      <th>60730001001</th>\n      <td>0.006834</td>\n      <td>0.027335</td>\n      <td>0.004556</td>\n      <td>0.000000</td>\n      <td>0.000000</td>\n      <td>0.004556</td>\n      <td>0.0</td>\n      <td>0.000000</td>\n      <td>0.004556</td>\n      <td>0.000000</td>\n      <td>...</td>\n      <td>0.000000</td>\n      <td>0.0</td>\n      <td>0.000000</td>\n      <td>0.000000</td>\n      <td>0.0</td>\n      <td>0.0</td>\n      <td>0.009112</td>\n      <td>0.004556</td>\n      <td>0.0</td>\n      <td>1.0</td>\n    </tr>\n    <tr>\n      <th>60730001002</th>\n      <td>0.025135</td>\n      <td>0.032316</td>\n      <td>0.010772</td>\n      <td>0.005386</td>\n      <td>0.000000</td>\n      <td>0.001795</td>\n      <td>0.0</td>\n      <td>0.000000</td>\n      <td>0.010772</td>\n      <td>0.000000</td>\n      <td>...</td>\n      <td>0.000000</td>\n      <td>0.0</td>\n      <td>0.001795</td>\n      <td>0.000000</td>\n      <td>0.0</td>\n      <td>0.0</td>\n      <td>0.012567</td>\n      <td>0.000000</td>\n      <td>0.0</td>\n      <td>1.0</td>\n    </tr>\n    <tr>\n      <th>60730002011</th>\n      <td>0.000000</td>\n      <td>0.000000</td>\n      <td>0.047558</td>\n      <td>0.000000</td>\n      <td>0.001285</td>\n      <td>0.000000</td>\n      <td>0.0</td>\n      <td>0.002571</td>\n      <td>0.003856</td>\n      <td>0.001285</td>\n      <td>...</td>\n      <td>0.002571</td>\n      <td>0.0</td>\n      <td>0.017995</td>\n      <td>0.001285</td>\n      <td>0.0</td>\n      <td>0.0</td>\n      <td>0.002571</td>\n      <td>0.000000</td>\n      <td>0.0</td>\n      <td>1.0</td>\n    </tr>\n  </tbody>\n</table>\n<p>3 rows × 1795 columns</p>\n</div>"
     },
     "execution_count": 18,
     "metadata": {},
     "output_type": "execute_result"
    }
   ],
   "source": [
    "from matrixes import create_probability_matrix\n",
    "\n",
    "flow_probs_matrix_csv = './data/flow_probabilities/sd_lodes_2019_flow_probabilities_matrix.csv'\n",
    "flow_probs_matrix = create_probability_matrix(od_raw_matrix_csv, flow_probs_matrix_csv, 'cbg_orig')\n",
    "flow_probs_matrix.head(3)"
   ],
   "metadata": {
    "collapsed": false,
    "pycharm": {
     "name": "#%%\n"
    }
   }
  },
  {
   "cell_type": "markdown",
   "source": [
    "#### 5. Choose the distance bins.\n",
    "Local SpSSIMs will be calculated for the CBGs inside each distance bin. Below are 10km distance bins.\n"
   ],
   "metadata": {
    "collapsed": false,
    "pycharm": {
     "name": "#%% md\n"
    }
   }
  },
  {
   "cell_type": "code",
   "execution_count": 19,
   "outputs": [],
   "source": [
    "distance_bins = [(0, 10), (10, 20), (20, 30), (30, 40), (40, 50), (50, 60), (60, 70), (70, 80), (80, 90), (90, 100), (100, 110), (110, 120)]"
   ],
   "metadata": {
    "collapsed": false,
    "pycharm": {
     "name": "#%%\n"
    }
   }
  },
  {
   "cell_type": "markdown",
   "source": [
    "#### 6. Create a weight matrix for each distance bin.\n",
    "Matrix cells equal 1 if the distance between the origin and destination CBGs is within the distance bin's range. Otherwise, the cell values equal 0.\n"
   ],
   "metadata": {
    "collapsed": false,
    "pycharm": {
     "name": "#%% md\n"
    }
   }
  },
  {
   "cell_type": "code",
   "execution_count": 20,
   "outputs": [
    {
     "data": {
      "text/plain": "      cbg_orig  60730001001  60730001002  60730002011  60730002021  \\\n0  60730001001            1            1            1            1   \n1  60730001002            1            1            1            1   \n2  60730002011            1            1            1            1   \n\n   60730002022  60730002023  60730003001  60730003002  60730003003  ...  \\\n0            1            1            1            1            1  ...   \n1            1            1            1            1            1  ...   \n2            1            1            1            1            1  ...   \n\n   60730216002  60730218001  60730218002  60730219001  60730219002  \\\n0            1            1            1            1            1   \n1            1            1            1            1            1   \n2            1            1            1            1            1   \n\n   60730220001  60730220002  60730221001  60730221002  60730221003  \n0            0            0            0            0            0  \n1            0            0            0            0            0  \n2            1            0            0            0            0  \n\n[3 rows x 1795 columns]",
      "text/html": "<div>\n<style scoped>\n    .dataframe tbody tr th:only-of-type {\n        vertical-align: middle;\n    }\n\n    .dataframe tbody tr th {\n        vertical-align: top;\n    }\n\n    .dataframe thead th {\n        text-align: right;\n    }\n</style>\n<table border=\"1\" class=\"dataframe\">\n  <thead>\n    <tr style=\"text-align: right;\">\n      <th></th>\n      <th>cbg_orig</th>\n      <th>60730001001</th>\n      <th>60730001002</th>\n      <th>60730002011</th>\n      <th>60730002021</th>\n      <th>60730002022</th>\n      <th>60730002023</th>\n      <th>60730003001</th>\n      <th>60730003002</th>\n      <th>60730003003</th>\n      <th>...</th>\n      <th>60730216002</th>\n      <th>60730218001</th>\n      <th>60730218002</th>\n      <th>60730219001</th>\n      <th>60730219002</th>\n      <th>60730220001</th>\n      <th>60730220002</th>\n      <th>60730221001</th>\n      <th>60730221002</th>\n      <th>60730221003</th>\n    </tr>\n  </thead>\n  <tbody>\n    <tr>\n      <th>0</th>\n      <td>60730001001</td>\n      <td>1</td>\n      <td>1</td>\n      <td>1</td>\n      <td>1</td>\n      <td>1</td>\n      <td>1</td>\n      <td>1</td>\n      <td>1</td>\n      <td>1</td>\n      <td>...</td>\n      <td>1</td>\n      <td>1</td>\n      <td>1</td>\n      <td>1</td>\n      <td>1</td>\n      <td>0</td>\n      <td>0</td>\n      <td>0</td>\n      <td>0</td>\n      <td>0</td>\n    </tr>\n    <tr>\n      <th>1</th>\n      <td>60730001002</td>\n      <td>1</td>\n      <td>1</td>\n      <td>1</td>\n      <td>1</td>\n      <td>1</td>\n      <td>1</td>\n      <td>1</td>\n      <td>1</td>\n      <td>1</td>\n      <td>...</td>\n      <td>1</td>\n      <td>1</td>\n      <td>1</td>\n      <td>1</td>\n      <td>1</td>\n      <td>0</td>\n      <td>0</td>\n      <td>0</td>\n      <td>0</td>\n      <td>0</td>\n    </tr>\n    <tr>\n      <th>2</th>\n      <td>60730002011</td>\n      <td>1</td>\n      <td>1</td>\n      <td>1</td>\n      <td>1</td>\n      <td>1</td>\n      <td>1</td>\n      <td>1</td>\n      <td>1</td>\n      <td>1</td>\n      <td>...</td>\n      <td>1</td>\n      <td>1</td>\n      <td>1</td>\n      <td>1</td>\n      <td>1</td>\n      <td>1</td>\n      <td>0</td>\n      <td>0</td>\n      <td>0</td>\n      <td>0</td>\n    </tr>\n  </tbody>\n</table>\n<p>3 rows × 1795 columns</p>\n</div>"
     },
     "execution_count": 20,
     "metadata": {},
     "output_type": "execute_result"
    }
   ],
   "source": [
    "from matrixes import create_weights_matrix\n",
    "\n",
    "weights_matrix_csv = './data/weights_10km_bins/weights_matrix_{}km_{}km.csv'\n",
    "for b in distance_bins:\n",
    "    df = create_weights_matrix(distance_matrix_csv, weights_matrix_csv, b)\n",
    "\n",
    "df.head(3)"
   ],
   "metadata": {
    "collapsed": false,
    "pycharm": {
     "name": "#%%\n"
    }
   }
  },
  {
   "cell_type": "markdown",
   "source": [
    "#### 7. Use 2 probability flow matrixes and the weights matrixes to calculate the SpSSIM.\n",
    "Behind-the-scenes helper functions are used to calculate the mean and variance for each probability flow matrix, the covariance of the matrixes, and the local SpSSIM value for each distance bin. A results table with this data generated and saved.\n"
   ],
   "metadata": {
    "collapsed": false,
    "pycharm": {
     "name": "#%% md\n"
    }
   }
  },
  {
   "cell_type": "code",
   "execution_count": 21,
   "outputs": [
    {
     "name": "stdout",
     "output_type": "stream",
     "text": [
      "./data/flow_probabilities/sd_lodes_2019_flow_probabilities_matrix.csv ./data/flow_probabilities/sd_lodes_2019_flow_probabilities_matrix.csv 1.0\n"
     ]
    }
   ],
   "source": [
    "from analysis import calc_global_spssim\n",
    "\n",
    "results_csv = './data/spssim_results/lodes2019_lodes2019.csv'\n",
    "spssim, results = calc_global_spssim(flow_probs_matrix_csv, flow_probs_matrix_csv, weights_matrix_csv, results_csv, 'cbg_orig', distance_bins)"
   ],
   "metadata": {
    "collapsed": false,
    "pycharm": {
     "name": "#%%\n"
    }
   }
  },
  {
   "cell_type": "markdown",
   "source": [
    "#### In this example, I calculated the similarity of the same matrix, so the SpSSIM = 1.\n",
    "SpSSIM scores range from 0-1 with a score equal to 1 if the flow probabilities matrixes are the same.\n"
   ],
   "metadata": {
    "collapsed": false,
    "pycharm": {
     "name": "#%% md\n"
    }
   }
  },
  {
   "cell_type": "code",
   "execution_count": 22,
   "outputs": [
    {
     "name": "stdout",
     "output_type": "stream",
     "text": [
      "The SpSSIM value is 1.0.\n"
     ]
    },
    {
     "data": {
      "text/plain": "                                              matrix1  \\\n0   data/flow_probabilities/sd_lodes_2019_flow_pro...   \n1   data/flow_probabilities/sd_lodes_2019_flow_pro...   \n2   data/flow_probabilities/sd_lodes_2019_flow_pro...   \n3   data/flow_probabilities/sd_lodes_2019_flow_pro...   \n4   data/flow_probabilities/sd_lodes_2019_flow_pro...   \n5   data/flow_probabilities/sd_lodes_2019_flow_pro...   \n6   data/flow_probabilities/sd_lodes_2019_flow_pro...   \n7   data/flow_probabilities/sd_lodes_2019_flow_pro...   \n8   data/flow_probabilities/sd_lodes_2019_flow_pro...   \n9   data/flow_probabilities/sd_lodes_2019_flow_pro...   \n10  data/flow_probabilities/sd_lodes_2019_flow_pro...   \n11  data/flow_probabilities/sd_lodes_2019_flow_pro...   \n\n                                              matrix2 distance_bin constant1  \\\n0   data/flow_probabilities/sd_lodes_2019_flow_pro...      (0, 10)         0   \n1   data/flow_probabilities/sd_lodes_2019_flow_pro...     (10, 20)         0   \n2   data/flow_probabilities/sd_lodes_2019_flow_pro...     (20, 30)         0   \n3   data/flow_probabilities/sd_lodes_2019_flow_pro...     (30, 40)         0   \n4   data/flow_probabilities/sd_lodes_2019_flow_pro...     (40, 50)         0   \n5   data/flow_probabilities/sd_lodes_2019_flow_pro...     (50, 60)         0   \n6   data/flow_probabilities/sd_lodes_2019_flow_pro...     (60, 70)         0   \n7   data/flow_probabilities/sd_lodes_2019_flow_pro...     (70, 80)         0   \n8   data/flow_probabilities/sd_lodes_2019_flow_pro...     (80, 90)         0   \n9   data/flow_probabilities/sd_lodes_2019_flow_pro...    (90, 100)         0   \n10  data/flow_probabilities/sd_lodes_2019_flow_pro...   (100, 110)         0   \n11  data/flow_probabilities/sd_lodes_2019_flow_pro...   (110, 120)         0   \n\n   constant2        n     mean1     mean2  variance1  variance2  covariance  \\\n0          0  3218436  0.000257  0.000257   0.000006   0.000006    0.000006   \n1          0  3218436  0.000257  0.000257   0.000006   0.000006    0.000006   \n2          0  3218436  0.000257  0.000257   0.000006   0.000006    0.000006   \n3          0  3218436  0.000257  0.000257   0.000006   0.000006    0.000006   \n4          0  3218436  0.000257  0.000257   0.000006   0.000006    0.000006   \n5          0  3218436  0.000257  0.000257   0.000006   0.000006    0.000006   \n6          0  3218436  0.000257  0.000257   0.000006   0.000006    0.000006   \n7          0  3218436  0.000257  0.000257   0.000006   0.000006    0.000006   \n8          0  3218436  0.000257  0.000257   0.000006   0.000006    0.000006   \n9          0  3218436  0.000257  0.000257   0.000006   0.000006    0.000006   \n10         0  3218436  0.000257  0.000257   0.000006   0.000006    0.000006   \n11         0  3218436  0.000257  0.000257   0.000006   0.000006    0.000006   \n\n    local_spssim  global_spssim  \n0            1.0            1.0  \n1            1.0            1.0  \n2            1.0            1.0  \n3            1.0            1.0  \n4            1.0            1.0  \n5            1.0            1.0  \n6            1.0            1.0  \n7            1.0            1.0  \n8            1.0            1.0  \n9            1.0            1.0  \n10           1.0            1.0  \n11           1.0            1.0  ",
      "text/html": "<div>\n<style scoped>\n    .dataframe tbody tr th:only-of-type {\n        vertical-align: middle;\n    }\n\n    .dataframe tbody tr th {\n        vertical-align: top;\n    }\n\n    .dataframe thead th {\n        text-align: right;\n    }\n</style>\n<table border=\"1\" class=\"dataframe\">\n  <thead>\n    <tr style=\"text-align: right;\">\n      <th></th>\n      <th>matrix1</th>\n      <th>matrix2</th>\n      <th>distance_bin</th>\n      <th>constant1</th>\n      <th>constant2</th>\n      <th>n</th>\n      <th>mean1</th>\n      <th>mean2</th>\n      <th>variance1</th>\n      <th>variance2</th>\n      <th>covariance</th>\n      <th>local_spssim</th>\n      <th>global_spssim</th>\n    </tr>\n  </thead>\n  <tbody>\n    <tr>\n      <th>0</th>\n      <td>data/flow_probabilities/sd_lodes_2019_flow_pro...</td>\n      <td>data/flow_probabilities/sd_lodes_2019_flow_pro...</td>\n      <td>(0, 10)</td>\n      <td>0</td>\n      <td>0</td>\n      <td>3218436</td>\n      <td>0.000257</td>\n      <td>0.000257</td>\n      <td>0.000006</td>\n      <td>0.000006</td>\n      <td>0.000006</td>\n      <td>1.0</td>\n      <td>1.0</td>\n    </tr>\n    <tr>\n      <th>1</th>\n      <td>data/flow_probabilities/sd_lodes_2019_flow_pro...</td>\n      <td>data/flow_probabilities/sd_lodes_2019_flow_pro...</td>\n      <td>(10, 20)</td>\n      <td>0</td>\n      <td>0</td>\n      <td>3218436</td>\n      <td>0.000257</td>\n      <td>0.000257</td>\n      <td>0.000006</td>\n      <td>0.000006</td>\n      <td>0.000006</td>\n      <td>1.0</td>\n      <td>1.0</td>\n    </tr>\n    <tr>\n      <th>2</th>\n      <td>data/flow_probabilities/sd_lodes_2019_flow_pro...</td>\n      <td>data/flow_probabilities/sd_lodes_2019_flow_pro...</td>\n      <td>(20, 30)</td>\n      <td>0</td>\n      <td>0</td>\n      <td>3218436</td>\n      <td>0.000257</td>\n      <td>0.000257</td>\n      <td>0.000006</td>\n      <td>0.000006</td>\n      <td>0.000006</td>\n      <td>1.0</td>\n      <td>1.0</td>\n    </tr>\n    <tr>\n      <th>3</th>\n      <td>data/flow_probabilities/sd_lodes_2019_flow_pro...</td>\n      <td>data/flow_probabilities/sd_lodes_2019_flow_pro...</td>\n      <td>(30, 40)</td>\n      <td>0</td>\n      <td>0</td>\n      <td>3218436</td>\n      <td>0.000257</td>\n      <td>0.000257</td>\n      <td>0.000006</td>\n      <td>0.000006</td>\n      <td>0.000006</td>\n      <td>1.0</td>\n      <td>1.0</td>\n    </tr>\n    <tr>\n      <th>4</th>\n      <td>data/flow_probabilities/sd_lodes_2019_flow_pro...</td>\n      <td>data/flow_probabilities/sd_lodes_2019_flow_pro...</td>\n      <td>(40, 50)</td>\n      <td>0</td>\n      <td>0</td>\n      <td>3218436</td>\n      <td>0.000257</td>\n      <td>0.000257</td>\n      <td>0.000006</td>\n      <td>0.000006</td>\n      <td>0.000006</td>\n      <td>1.0</td>\n      <td>1.0</td>\n    </tr>\n    <tr>\n      <th>5</th>\n      <td>data/flow_probabilities/sd_lodes_2019_flow_pro...</td>\n      <td>data/flow_probabilities/sd_lodes_2019_flow_pro...</td>\n      <td>(50, 60)</td>\n      <td>0</td>\n      <td>0</td>\n      <td>3218436</td>\n      <td>0.000257</td>\n      <td>0.000257</td>\n      <td>0.000006</td>\n      <td>0.000006</td>\n      <td>0.000006</td>\n      <td>1.0</td>\n      <td>1.0</td>\n    </tr>\n    <tr>\n      <th>6</th>\n      <td>data/flow_probabilities/sd_lodes_2019_flow_pro...</td>\n      <td>data/flow_probabilities/sd_lodes_2019_flow_pro...</td>\n      <td>(60, 70)</td>\n      <td>0</td>\n      <td>0</td>\n      <td>3218436</td>\n      <td>0.000257</td>\n      <td>0.000257</td>\n      <td>0.000006</td>\n      <td>0.000006</td>\n      <td>0.000006</td>\n      <td>1.0</td>\n      <td>1.0</td>\n    </tr>\n    <tr>\n      <th>7</th>\n      <td>data/flow_probabilities/sd_lodes_2019_flow_pro...</td>\n      <td>data/flow_probabilities/sd_lodes_2019_flow_pro...</td>\n      <td>(70, 80)</td>\n      <td>0</td>\n      <td>0</td>\n      <td>3218436</td>\n      <td>0.000257</td>\n      <td>0.000257</td>\n      <td>0.000006</td>\n      <td>0.000006</td>\n      <td>0.000006</td>\n      <td>1.0</td>\n      <td>1.0</td>\n    </tr>\n    <tr>\n      <th>8</th>\n      <td>data/flow_probabilities/sd_lodes_2019_flow_pro...</td>\n      <td>data/flow_probabilities/sd_lodes_2019_flow_pro...</td>\n      <td>(80, 90)</td>\n      <td>0</td>\n      <td>0</td>\n      <td>3218436</td>\n      <td>0.000257</td>\n      <td>0.000257</td>\n      <td>0.000006</td>\n      <td>0.000006</td>\n      <td>0.000006</td>\n      <td>1.0</td>\n      <td>1.0</td>\n    </tr>\n    <tr>\n      <th>9</th>\n      <td>data/flow_probabilities/sd_lodes_2019_flow_pro...</td>\n      <td>data/flow_probabilities/sd_lodes_2019_flow_pro...</td>\n      <td>(90, 100)</td>\n      <td>0</td>\n      <td>0</td>\n      <td>3218436</td>\n      <td>0.000257</td>\n      <td>0.000257</td>\n      <td>0.000006</td>\n      <td>0.000006</td>\n      <td>0.000006</td>\n      <td>1.0</td>\n      <td>1.0</td>\n    </tr>\n    <tr>\n      <th>10</th>\n      <td>data/flow_probabilities/sd_lodes_2019_flow_pro...</td>\n      <td>data/flow_probabilities/sd_lodes_2019_flow_pro...</td>\n      <td>(100, 110)</td>\n      <td>0</td>\n      <td>0</td>\n      <td>3218436</td>\n      <td>0.000257</td>\n      <td>0.000257</td>\n      <td>0.000006</td>\n      <td>0.000006</td>\n      <td>0.000006</td>\n      <td>1.0</td>\n      <td>1.0</td>\n    </tr>\n    <tr>\n      <th>11</th>\n      <td>data/flow_probabilities/sd_lodes_2019_flow_pro...</td>\n      <td>data/flow_probabilities/sd_lodes_2019_flow_pro...</td>\n      <td>(110, 120)</td>\n      <td>0</td>\n      <td>0</td>\n      <td>3218436</td>\n      <td>0.000257</td>\n      <td>0.000257</td>\n      <td>0.000006</td>\n      <td>0.000006</td>\n      <td>0.000006</td>\n      <td>1.0</td>\n      <td>1.0</td>\n    </tr>\n  </tbody>\n</table>\n</div>"
     },
     "execution_count": 22,
     "metadata": {},
     "output_type": "execute_result"
    }
   ],
   "source": [
    "print('The SpSSIM value is {}.'.format(spssim))\n",
    "results"
   ],
   "metadata": {
    "collapsed": false,
    "pycharm": {
     "name": "#%%\n"
    }
   }
  },
  {
   "cell_type": "markdown",
   "source": [
    "#### The Python script is available on [GitHub](https://github.com/jlembury/spssim_analysis). Backup data is on [Google Drive](https://drive.google.com/drive/folders/12WrJ_iIWFP6eIQUoisutON2G8xudTM-D?usp=sharing).\n"
   ],
   "metadata": {
    "collapsed": false,
    "pycharm": {
     "name": "#%% md\n"
    }
   }
  },
  {
   "cell_type": "code",
   "execution_count": null,
   "outputs": [],
   "source": [],
   "metadata": {
    "collapsed": false,
    "pycharm": {
     "name": "#%%\n"
    }
   }
  }
 ],
 "metadata": {
  "kernelspec": {
   "display_name": "Python 3",
   "language": "python",
   "name": "python3"
  },
  "language_info": {
   "codemirror_mode": {
    "name": "ipython",
    "version": 2
   },
   "file_extension": ".py",
   "mimetype": "text/x-python",
   "name": "python",
   "nbconvert_exporter": "python",
   "pygments_lexer": "ipython2",
   "version": "2.7.6"
  }
 },
 "nbformat": 4,
 "nbformat_minor": 0
}